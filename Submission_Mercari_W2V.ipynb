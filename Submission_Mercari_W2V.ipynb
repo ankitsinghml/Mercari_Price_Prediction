{
  "cells": [
    {
      "cell_type": "code",
      "execution_count": null,
      "metadata": {
        "colab": {
          "base_uri": "https://localhost:8080/"
        },
        "id": "UN4LYLvSRh8C",
        "outputId": "2c5dd4c8-2d97-4fba-9efd-7550182f610f"
      },
      "outputs": [
        {
          "output_type": "stream",
          "name": "stdout",
          "text": [
            "Mounted at /content/gdrive\n"
          ]
        }
      ],
      "source": [
        "from google.colab import drive\n",
        "drive.mount('/content/gdrive')"
      ],
      "id": "UN4LYLvSRh8C"
    },
    {
      "cell_type": "code",
      "execution_count": null,
      "metadata": {
        "id": "bb592662"
      },
      "outputs": [],
      "source": [
        "#declarations\n",
        "import pandas as pd\n",
        "import numpy as np\n",
        "from tqdm import tqdm\n",
        "from sklearn.model_selection import train_test_split\n",
        "from scipy.sparse import hstack\n",
        "\n",
        "from sklearn.metrics import mean_squared_error\n",
        "from sklearn.linear_model import Lasso, Ridge\n",
        "from sklearn.model_selection import GridSearchCV"
      ],
      "id": "bb592662"
    },
    {
      "cell_type": "code",
      "execution_count": null,
      "metadata": {
        "colab": {
          "base_uri": "https://localhost:8080/"
        },
        "id": "a417402c",
        "outputId": "7e35c837-7e5b-467b-95b8-87adc0acb4aa"
      },
      "outputs": [
        {
          "output_type": "execute_result",
          "data": {
            "text/plain": [
              "(1482535, 14)"
            ]
          },
          "metadata": {},
          "execution_count": 13
        }
      ],
      "source": [
        "dir_path = '/content/gdrive/My Drive/Colab/'\n",
        "\n",
        "df = pd.read_csv(dir_path+\"final train.csv\") #  processed_1stNov.csv\n",
        "df.shape"
      ],
      "id": "a417402c"
    },
    {
      "cell_type": "code",
      "execution_count": null,
      "metadata": {
        "colab": {
          "base_uri": "https://localhost:8080/",
          "height": 687
        },
        "id": "25d88ec1",
        "outputId": "40daa0c7-8274-4d35-a794-6edc4d6a6772"
      },
      "outputs": [
        {
          "output_type": "execute_result",
          "data": {
            "text/plain": [
              "   Unnamed: 0                                 name  item_condition_id  \\\n",
              "0           0  mlb cincinnati reds t shirt size xl                  3   \n",
              "1           1     razer blackwidow chroma keyboard                  3   \n",
              "2           2                        avaviv blouse                  1   \n",
              "3           3                leather horse statues                  1   \n",
              "4           4                 24k gold plated rose                  1   \n",
              "\n",
              "                                       category_name brand_name  price  \\\n",
              "0                                  Men/Tops/T-shirts        mlb   10.0   \n",
              "1  Electronics/Computers & Tablets/Components & P...      razer   52.0   \n",
              "2                        Women/Tops & Blouses/Blouse     target   10.0   \n",
              "3                 Home/Home Décor/Home Décor Accents    missing   35.0   \n",
              "4                            Women/Jewelry/Necklaces    missing   44.0   \n",
              "\n",
              "   shipping                                   item_description  log_price  \\\n",
              "0         1                                    description yet   2.397895   \n",
              "1         0  keyboard great condition works like came box p...   3.970292   \n",
              "2         1  adorable top hint lace key hole back pale pink...   2.397895   \n",
              "3         1  new tags leather horses retail rm stand foot h...   3.583519   \n",
              "4         0                  complete certificate authenticity   3.806662   \n",
              "\n",
              "      Category       Sub_Category_1      Sub_Category_2  brand_median  \\\n",
              "0          Men                 Tops            T-shirts      2.302585   \n",
              "1  Electronics  Computers & Tablets  Components & Parts      3.713572   \n",
              "2        Women       Tops & Blouses              Blouse      2.564949   \n",
              "3         Home           Home Décor  Home Décor Accents      2.639057   \n",
              "4        Women              Jewelry           Necklaces      2.639057   \n",
              "\n",
              "                                            combined  \n",
              "0  mlb cincinnati reds t shirt size xl descriptio...  \n",
              "1  razer blackwidow chroma keyboard keyboard grea...  \n",
              "2  avaviv blouse adorable top hint lace key hole ...  \n",
              "3  leather horse statues new tags leather horses ...  \n",
              "4  24k gold plated rose complete certificate auth...  "
            ],
            "text/html": [
              "\n",
              "  <div id=\"df-f71e7ff3-7bf3-419d-8f37-5ba56f7677c5\">\n",
              "    <div class=\"colab-df-container\">\n",
              "      <div>\n",
              "<style scoped>\n",
              "    .dataframe tbody tr th:only-of-type {\n",
              "        vertical-align: middle;\n",
              "    }\n",
              "\n",
              "    .dataframe tbody tr th {\n",
              "        vertical-align: top;\n",
              "    }\n",
              "\n",
              "    .dataframe thead th {\n",
              "        text-align: right;\n",
              "    }\n",
              "</style>\n",
              "<table border=\"1\" class=\"dataframe\">\n",
              "  <thead>\n",
              "    <tr style=\"text-align: right;\">\n",
              "      <th></th>\n",
              "      <th>Unnamed: 0</th>\n",
              "      <th>name</th>\n",
              "      <th>item_condition_id</th>\n",
              "      <th>category_name</th>\n",
              "      <th>brand_name</th>\n",
              "      <th>price</th>\n",
              "      <th>shipping</th>\n",
              "      <th>item_description</th>\n",
              "      <th>log_price</th>\n",
              "      <th>Category</th>\n",
              "      <th>Sub_Category_1</th>\n",
              "      <th>Sub_Category_2</th>\n",
              "      <th>brand_median</th>\n",
              "      <th>combined</th>\n",
              "    </tr>\n",
              "  </thead>\n",
              "  <tbody>\n",
              "    <tr>\n",
              "      <th>0</th>\n",
              "      <td>0</td>\n",
              "      <td>mlb cincinnati reds t shirt size xl</td>\n",
              "      <td>3</td>\n",
              "      <td>Men/Tops/T-shirts</td>\n",
              "      <td>mlb</td>\n",
              "      <td>10.0</td>\n",
              "      <td>1</td>\n",
              "      <td>description yet</td>\n",
              "      <td>2.397895</td>\n",
              "      <td>Men</td>\n",
              "      <td>Tops</td>\n",
              "      <td>T-shirts</td>\n",
              "      <td>2.302585</td>\n",
              "      <td>mlb cincinnati reds t shirt size xl descriptio...</td>\n",
              "    </tr>\n",
              "    <tr>\n",
              "      <th>1</th>\n",
              "      <td>1</td>\n",
              "      <td>razer blackwidow chroma keyboard</td>\n",
              "      <td>3</td>\n",
              "      <td>Electronics/Computers &amp; Tablets/Components &amp; P...</td>\n",
              "      <td>razer</td>\n",
              "      <td>52.0</td>\n",
              "      <td>0</td>\n",
              "      <td>keyboard great condition works like came box p...</td>\n",
              "      <td>3.970292</td>\n",
              "      <td>Electronics</td>\n",
              "      <td>Computers &amp; Tablets</td>\n",
              "      <td>Components &amp; Parts</td>\n",
              "      <td>3.713572</td>\n",
              "      <td>razer blackwidow chroma keyboard keyboard grea...</td>\n",
              "    </tr>\n",
              "    <tr>\n",
              "      <th>2</th>\n",
              "      <td>2</td>\n",
              "      <td>avaviv blouse</td>\n",
              "      <td>1</td>\n",
              "      <td>Women/Tops &amp; Blouses/Blouse</td>\n",
              "      <td>target</td>\n",
              "      <td>10.0</td>\n",
              "      <td>1</td>\n",
              "      <td>adorable top hint lace key hole back pale pink...</td>\n",
              "      <td>2.397895</td>\n",
              "      <td>Women</td>\n",
              "      <td>Tops &amp; Blouses</td>\n",
              "      <td>Blouse</td>\n",
              "      <td>2.564949</td>\n",
              "      <td>avaviv blouse adorable top hint lace key hole ...</td>\n",
              "    </tr>\n",
              "    <tr>\n",
              "      <th>3</th>\n",
              "      <td>3</td>\n",
              "      <td>leather horse statues</td>\n",
              "      <td>1</td>\n",
              "      <td>Home/Home Décor/Home Décor Accents</td>\n",
              "      <td>missing</td>\n",
              "      <td>35.0</td>\n",
              "      <td>1</td>\n",
              "      <td>new tags leather horses retail rm stand foot h...</td>\n",
              "      <td>3.583519</td>\n",
              "      <td>Home</td>\n",
              "      <td>Home Décor</td>\n",
              "      <td>Home Décor Accents</td>\n",
              "      <td>2.639057</td>\n",
              "      <td>leather horse statues new tags leather horses ...</td>\n",
              "    </tr>\n",
              "    <tr>\n",
              "      <th>4</th>\n",
              "      <td>4</td>\n",
              "      <td>24k gold plated rose</td>\n",
              "      <td>1</td>\n",
              "      <td>Women/Jewelry/Necklaces</td>\n",
              "      <td>missing</td>\n",
              "      <td>44.0</td>\n",
              "      <td>0</td>\n",
              "      <td>complete certificate authenticity</td>\n",
              "      <td>3.806662</td>\n",
              "      <td>Women</td>\n",
              "      <td>Jewelry</td>\n",
              "      <td>Necklaces</td>\n",
              "      <td>2.639057</td>\n",
              "      <td>24k gold plated rose complete certificate auth...</td>\n",
              "    </tr>\n",
              "  </tbody>\n",
              "</table>\n",
              "</div>\n",
              "      <button class=\"colab-df-convert\" onclick=\"convertToInteractive('df-f71e7ff3-7bf3-419d-8f37-5ba56f7677c5')\"\n",
              "              title=\"Convert this dataframe to an interactive table.\"\n",
              "              style=\"display:none;\">\n",
              "        \n",
              "  <svg xmlns=\"http://www.w3.org/2000/svg\" height=\"24px\"viewBox=\"0 0 24 24\"\n",
              "       width=\"24px\">\n",
              "    <path d=\"M0 0h24v24H0V0z\" fill=\"none\"/>\n",
              "    <path d=\"M18.56 5.44l.94 2.06.94-2.06 2.06-.94-2.06-.94-.94-2.06-.94 2.06-2.06.94zm-11 1L8.5 8.5l.94-2.06 2.06-.94-2.06-.94L8.5 2.5l-.94 2.06-2.06.94zm10 10l.94 2.06.94-2.06 2.06-.94-2.06-.94-.94-2.06-.94 2.06-2.06.94z\"/><path d=\"M17.41 7.96l-1.37-1.37c-.4-.4-.92-.59-1.43-.59-.52 0-1.04.2-1.43.59L10.3 9.45l-7.72 7.72c-.78.78-.78 2.05 0 2.83L4 21.41c.39.39.9.59 1.41.59.51 0 1.02-.2 1.41-.59l7.78-7.78 2.81-2.81c.8-.78.8-2.07 0-2.86zM5.41 20L4 18.59l7.72-7.72 1.47 1.35L5.41 20z\"/>\n",
              "  </svg>\n",
              "      </button>\n",
              "      \n",
              "  <style>\n",
              "    .colab-df-container {\n",
              "      display:flex;\n",
              "      flex-wrap:wrap;\n",
              "      gap: 12px;\n",
              "    }\n",
              "\n",
              "    .colab-df-convert {\n",
              "      background-color: #E8F0FE;\n",
              "      border: none;\n",
              "      border-radius: 50%;\n",
              "      cursor: pointer;\n",
              "      display: none;\n",
              "      fill: #1967D2;\n",
              "      height: 32px;\n",
              "      padding: 0 0 0 0;\n",
              "      width: 32px;\n",
              "    }\n",
              "\n",
              "    .colab-df-convert:hover {\n",
              "      background-color: #E2EBFA;\n",
              "      box-shadow: 0px 1px 2px rgba(60, 64, 67, 0.3), 0px 1px 3px 1px rgba(60, 64, 67, 0.15);\n",
              "      fill: #174EA6;\n",
              "    }\n",
              "\n",
              "    [theme=dark] .colab-df-convert {\n",
              "      background-color: #3B4455;\n",
              "      fill: #D2E3FC;\n",
              "    }\n",
              "\n",
              "    [theme=dark] .colab-df-convert:hover {\n",
              "      background-color: #434B5C;\n",
              "      box-shadow: 0px 1px 3px 1px rgba(0, 0, 0, 0.15);\n",
              "      filter: drop-shadow(0px 1px 2px rgba(0, 0, 0, 0.3));\n",
              "      fill: #FFFFFF;\n",
              "    }\n",
              "  </style>\n",
              "\n",
              "      <script>\n",
              "        const buttonEl =\n",
              "          document.querySelector('#df-f71e7ff3-7bf3-419d-8f37-5ba56f7677c5 button.colab-df-convert');\n",
              "        buttonEl.style.display =\n",
              "          google.colab.kernel.accessAllowed ? 'block' : 'none';\n",
              "\n",
              "        async function convertToInteractive(key) {\n",
              "          const element = document.querySelector('#df-f71e7ff3-7bf3-419d-8f37-5ba56f7677c5');\n",
              "          const dataTable =\n",
              "            await google.colab.kernel.invokeFunction('convertToInteractive',\n",
              "                                                     [key], {});\n",
              "          if (!dataTable) return;\n",
              "\n",
              "          const docLinkHtml = 'Like what you see? Visit the ' +\n",
              "            '<a target=\"_blank\" href=https://colab.research.google.com/notebooks/data_table.ipynb>data table notebook</a>'\n",
              "            + ' to learn more about interactive tables.';\n",
              "          element.innerHTML = '';\n",
              "          dataTable['output_type'] = 'display_data';\n",
              "          await google.colab.output.renderOutput(dataTable, element);\n",
              "          const docLink = document.createElement('div');\n",
              "          docLink.innerHTML = docLinkHtml;\n",
              "          element.appendChild(docLink);\n",
              "        }\n",
              "      </script>\n",
              "    </div>\n",
              "  </div>\n",
              "  "
            ]
          },
          "metadata": {},
          "execution_count": 14
        }
      ],
      "source": [
        "df.head()"
      ],
      "id": "25d88ec1"
    },
    {
      "cell_type": "code",
      "execution_count": null,
      "metadata": {
        "id": "5941370d"
      },
      "outputs": [],
      "source": [
        "y = df['log_price']\n",
        "df.drop('log_price', axis=1, inplace=True)"
      ],
      "id": "5941370d"
    },
    {
      "cell_type": "code",
      "execution_count": null,
      "metadata": {
        "id": "86c7a0f8"
      },
      "outputs": [],
      "source": [
        "X_train, X_cv, y_train, y_cv = train_test_split(df, y, test_size=0.3, random_state=0)"
      ],
      "id": "86c7a0f8"
    },
    {
      "cell_type": "code",
      "execution_count": null,
      "metadata": {
        "id": "93aa5d60"
      },
      "outputs": [],
      "source": [
        "del(df)\n",
        "del(y)"
      ],
      "id": "93aa5d60"
    },
    {
      "cell_type": "code",
      "execution_count": null,
      "metadata": {
        "colab": {
          "base_uri": "https://localhost:8080/"
        },
        "id": "70ec705c",
        "outputId": "82ba313f-fe1e-4c8b-ad61-a0508497f8f0"
      },
      "outputs": [
        {
          "output_type": "stream",
          "name": "stdout",
          "text": [
            "Shape of X_train: (1037774, 13)\n",
            "Shape of X_cv: (444761, 13)\n",
            "Shape of Y_train: (1037774,)\n",
            "Shape of Y_cv: (444761,)\n"
          ]
        }
      ],
      "source": [
        "print(\"Shape of X_train:\", X_train.shape)\n",
        "print(\"Shape of X_cv:\", X_cv.shape)\n",
        "\n",
        "print(\"Shape of Y_train:\", y_train.shape)\n",
        "print(\"Shape of Y_cv:\", y_cv.shape)"
      ],
      "id": "70ec705c"
    },
    {
      "cell_type": "markdown",
      "metadata": {
        "id": "u8zmj6VuDyI5"
      },
      "source": [
        "WORD TO VEC"
      ],
      "id": "u8zmj6VuDyI5"
    },
    {
      "cell_type": "markdown",
      "metadata": {
        "id": "7Cjd7a-JklJn"
      },
      "source": [
        "Word 2 vec - using Glove vectors"
      ],
      "id": "7Cjd7a-JklJn"
    },
    {
      "cell_type": "code",
      "execution_count": null,
      "metadata": {
        "id": "73FJlH4ekmSj"
      },
      "outputs": [],
      "source": [
        "#please use below code to load glove vectors \n",
        "import pickle\n",
        "with open(dir_path+'glove_vectors', 'rb') as f:\n",
        "    model = pickle.load(f)\n",
        "    glove_words =  set(model.keys())"
      ],
      "id": "73FJlH4ekmSj"
    },
    {
      "cell_type": "code",
      "execution_count": null,
      "metadata": {
        "id": "fohrcEpzlHo8"
      },
      "outputs": [],
      "source": [
        "from tqdm import tqdm\n",
        "\n",
        "def w2v_vec(preprocessed_essays):\n",
        " \n",
        "  w2v_vectors = []; # the avg-w2v for each sentence/review is stored in this list\n",
        " \n",
        "  for sentence in tqdm(preprocessed_essays): # for each review/sentence\n",
        "    vector = np.zeros(300) # as word vectors are of 300 length\n",
        "    word_count = 0 #num of words getting converted into w2v\n",
        "    #tf_idf_weight =0; # num of words with a valid vector in the sentence/review\n",
        " \n",
        "    for word in sentence.split(): # for each word in a review/sentence\n",
        "      if (word in glove_words):\n",
        "        vec = model[word] # getting the vector for each word\n",
        "        vector += vec # calculating tfidf weighted w2v\n",
        "        word_count += 1\n",
        "\n",
        "    #if word_count == 0:\n",
        "     # print(sentence)\n",
        "      #raise Exception(\"Sorry, no numbers below zero\")\n",
        "    if word_count != 0:\n",
        "      vector = vector/word_count   #len(sentence.split())\n",
        " \n",
        "    w2v_vectors.append(vector)\n",
        " \n",
        "  return w2v_vectors"
      ],
      "id": "fohrcEpzlHo8"
    },
    {
      "cell_type": "code",
      "execution_count": null,
      "metadata": {
        "colab": {
          "base_uri": "https://localhost:8080/"
        },
        "id": "_DfXREkgXEIV",
        "outputId": "2b0ec405-9bc1-4fa4-e5f1-671f0252bc57"
      },
      "outputs": [
        {
          "output_type": "stream",
          "name": "stderr",
          "text": [
            "100%|██████████| 1037774/1037774 [01:07<00:00, 15343.22it/s]\n",
            "100%|██████████| 444761/444761 [00:28<00:00, 15854.37it/s]\n"
          ]
        }
      ],
      "source": [
        "X_train_w2v = w2v_vec(X_train['combined'])\n",
        "X_cv_w2v = w2v_vec(X_cv['combined'])"
      ],
      "id": "_DfXREkgXEIV"
    },
    {
      "cell_type": "code",
      "execution_count": null,
      "metadata": {
        "colab": {
          "base_uri": "https://localhost:8080/"
        },
        "id": "oH0n_4CeXPZR",
        "outputId": "198db89f-75c8-4605-feec-a30969fcb5fb"
      },
      "outputs": [
        {
          "output_type": "stream",
          "name": "stdout",
          "text": [
            "1037774 300\n",
            "444761 300\n"
          ]
        }
      ],
      "source": [
        "print(len(X_train_w2v), len(X_train_w2v[0]))\n",
        "print(len(X_cv_w2v), len(X_cv_w2v[0]))"
      ],
      "id": "oH0n_4CeXPZR"
    },
    {
      "cell_type": "code",
      "execution_count": null,
      "metadata": {
        "colab": {
          "base_uri": "https://localhost:8080/"
        },
        "id": "hXncpbrtZjm-",
        "outputId": "0d704bdd-cc68-4af4-841d-fef2f072aeae"
      },
      "outputs": [
        {
          "output_type": "stream",
          "name": "stdout",
          "text": [
            "(1037774, 1)\n",
            "(444761, 1)\n"
          ]
        }
      ],
      "source": [
        "# brand_name_processed\n",
        "from sklearn.preprocessing import OrdinalEncoder\n",
        "\n",
        "encoder = OrdinalEncoder(handle_unknown='use_encoded_value',unknown_value=-1) #creating an instance\n",
        "encoder.fit(X_train.brand_name.values.reshape(-1,1))# fitting on train data \n",
        "\n",
        "X_train_brand =encoder.transform(X_train.brand_name.values.reshape(-1,1)) #transformin the train data\n",
        "X_cv_vec_brand = encoder.transform(X_cv.brand_name.values.reshape(-1,1)) # transforming the validation data\n",
        "\n",
        "print(X_train_brand.shape)\n",
        "print(X_cv_vec_brand.shape)"
      ],
      "id": "hXncpbrtZjm-"
    },
    {
      "cell_type": "code",
      "execution_count": null,
      "metadata": {
        "colab": {
          "base_uri": "https://localhost:8080/"
        },
        "id": "RPAo5CeQTZS5",
        "outputId": "5860cb03-10c8-43ac-a860-4311694db52d"
      },
      "outputs": [
        {
          "output_type": "stream",
          "name": "stdout",
          "text": [
            "(1037774, 1)\n",
            "(444761, 1)\n"
          ]
        }
      ],
      "source": [
        "encoder = OrdinalEncoder(handle_unknown='use_encoded_value',unknown_value=-1)#creating an instance\n",
        "encoder.fit(X_train.Category.values.reshape(-1,1))# fitting on train data \n",
        "\n",
        "X_train_category = encoder.transform(X_train.Category.values.reshape(-1,1))\n",
        "X_cv_category = encoder.transform(X_cv.Category.values.reshape(-1,1))\n",
        "\n",
        "print(X_train_category.shape)\n",
        "print(X_cv_category.shape)"
      ],
      "id": "RPAo5CeQTZS5"
    },
    {
      "cell_type": "code",
      "execution_count": null,
      "metadata": {
        "colab": {
          "base_uri": "https://localhost:8080/"
        },
        "id": "SPLtacMQU27p",
        "outputId": "61d77a71-7707-4bc4-cef4-24325f1e0a50"
      },
      "outputs": [
        {
          "output_type": "stream",
          "name": "stdout",
          "text": [
            "(1037774, 1)\n",
            "(444761, 1)\n"
          ]
        }
      ],
      "source": [
        "encoder = OrdinalEncoder(handle_unknown='use_encoded_value',unknown_value=-1)#creating an instance\n",
        "encoder.fit(X_train.Sub_Category_1.values.reshape(-1,1))# fitting on train data \n",
        "\n",
        "X_train_Sub_Category_1 = encoder.transform(X_train.Sub_Category_1.values.reshape(-1,1))\n",
        "X_cv_Sub_Category_1 = encoder.transform(X_cv.Sub_Category_1.values.reshape(-1,1))\n",
        "\n",
        "print(X_train_Sub_Category_1.shape)\n",
        "print(X_cv_Sub_Category_1.shape)"
      ],
      "id": "SPLtacMQU27p"
    },
    {
      "cell_type": "code",
      "execution_count": null,
      "metadata": {
        "colab": {
          "base_uri": "https://localhost:8080/"
        },
        "id": "du9cru4SVvgh",
        "outputId": "de19c3c5-21e7-46ae-ca30-31ff13874ba4"
      },
      "outputs": [
        {
          "output_type": "stream",
          "name": "stdout",
          "text": [
            "(1037774, 1)\n",
            "(444761, 1)\n"
          ]
        }
      ],
      "source": [
        "encoder = OrdinalEncoder(handle_unknown='use_encoded_value',unknown_value=-1)#creating an instance\n",
        "encoder.fit(X_train.Sub_Category_2.values.reshape(-1,1))# fitting on train data \n",
        "\n",
        "X_train_Sub_Category_2 = encoder.transform(X_train.Sub_Category_2.values.reshape(-1,1))\n",
        "X_cv_Sub_Category_2 = encoder.transform(X_cv.Sub_Category_2.values.reshape(-1,1))\n",
        "\n",
        "print(X_train_Sub_Category_2.shape)\n",
        "print(X_cv_Sub_Category_2.shape)"
      ],
      "id": "du9cru4SVvgh"
    },
    {
      "cell_type": "code",
      "execution_count": null,
      "metadata": {
        "id": "kB4ZTnd_WKoC"
      },
      "outputs": [],
      "source": [],
      "id": "kB4ZTnd_WKoC"
    },
    {
      "cell_type": "code",
      "execution_count": null,
      "metadata": {
        "colab": {
          "base_uri": "https://localhost:8080/"
        },
        "id": "uQ4govcrXZBy",
        "outputId": "2c318fe0-5b92-4313-d79b-b9008a9c46cb"
      },
      "outputs": [
        {
          "output_type": "execute_result",
          "data": {
            "text/plain": [
              "(1037774, 306)"
            ]
          },
          "metadata": {},
          "execution_count": 27
        }
      ],
      "source": [
        "x_train_w2 = np.hstack((X_train.item_condition_id.values.reshape(-1,1) , X_train.shipping.values.reshape(-1,1) , \n",
        "            X_train_brand , X_train_category , X_train_Sub_Category_1, X_train_Sub_Category_2 , X_train_w2v))\n",
        "\n",
        "x_train_w2.shape"
      ],
      "id": "uQ4govcrXZBy"
    },
    {
      "cell_type": "code",
      "execution_count": null,
      "metadata": {
        "colab": {
          "base_uri": "https://localhost:8080/"
        },
        "id": "hNGI-6Dqao10",
        "outputId": "0a619536-3e06-43b1-f040-ded29debe82b"
      },
      "outputs": [
        {
          "output_type": "execute_result",
          "data": {
            "text/plain": [
              "(444761, 306)"
            ]
          },
          "metadata": {},
          "execution_count": 28
        }
      ],
      "source": [
        "x_cv_w2v = np.hstack((X_cv.item_condition_id.values.reshape(-1,1) , X_cv.shipping.values.reshape(-1,1) , \n",
        "            X_cv_vec_brand , X_cv_category , X_cv_Sub_Category_1, X_cv_Sub_Category_2 , X_cv_w2v))\n",
        "\n",
        "x_cv_w2v.shape"
      ],
      "id": "hNGI-6Dqao10"
    },
    {
      "cell_type": "code",
      "source": [],
      "metadata": {
        "id": "wFKl4H29Zz5J"
      },
      "id": "wFKl4H29Zz5J",
      "execution_count": null,
      "outputs": []
    },
    {
      "cell_type": "markdown",
      "source": [
        "Standardize the data"
      ],
      "metadata": {
        "id": "L71zcPIMJlB3"
      },
      "id": "L71zcPIMJlB3"
    },
    {
      "cell_type": "code",
      "source": [
        "from sklearn import preprocessing\n",
        "scaler = preprocessing.StandardScaler().fit(x_train_w2)\n",
        "x_train_w2 = scaler.transform(x_train_w2)\n",
        "x_cv_w2v = scaler.transform(x_cv_w2v)"
      ],
      "metadata": {
        "id": "thaFaZQEJkkT"
      },
      "id": "thaFaZQEJkkT",
      "execution_count": null,
      "outputs": []
    },
    {
      "cell_type": "code",
      "execution_count": null,
      "metadata": {
        "id": "mwgBfRGZew5G"
      },
      "outputs": [],
      "source": [
        "#deleting variables to make space in RAM\n",
        "del(X_train_w2v)\n",
        "del(X_cv_w2v)\n",
        "del(X_train)\n",
        "del(X_cv)\n",
        "del(X_train_brand)\n",
        "del(X_train_category)\n",
        "del(X_train_Sub_Category_1)\n",
        "del(X_train_Sub_Category_2)\n",
        "\n",
        "del(model)\n",
        "del(glove_words)\n",
        "#del(w2v_vectors)\n",
        "del(encoder)\n",
        "\n",
        "del(scaler)"
      ],
      "id": "mwgBfRGZew5G"
    },
    {
      "cell_type": "code",
      "source": [],
      "metadata": {
        "id": "lNlff9lMv8dj"
      },
      "id": "lNlff9lMv8dj",
      "execution_count": null,
      "outputs": []
    },
    {
      "cell_type": "markdown",
      "metadata": {
        "id": "UQuHZ9ufDbDz"
      },
      "source": [
        "Lasso - Hyper Parameter tuning"
      ],
      "id": "UQuHZ9ufDbDz"
    },
    {
      "cell_type": "code",
      "execution_count": null,
      "metadata": {
        "colab": {
          "base_uri": "https://localhost:8080/"
        },
        "id": "5B8M_1sgDaHS",
        "outputId": "9d58fb2a-3153-48b3-969e-a3f3eda399ca"
      },
      "outputs": [
        {
          "data": {
            "text/plain": [
              "GridSearchCV(estimator=Lasso(),\n",
              "             param_grid=[{'alpha': [1e-05, 0.0001, 0.001, 0.01, 0.1, 1, 10,\n",
              "                                    100]}],\n",
              "             return_train_score=True, scoring='neg_root_mean_squared_error')"
            ]
          },
          "execution_count": 21,
          "metadata": {},
          "output_type": "execute_result"
        }
      ],
      "source": [
        "classifier = Lasso()\n",
        "hyperparams = [{'alpha': [10**x for x in range(-5,3)]}]\n",
        "\n",
        "grid_cv = GridSearchCV(classifier, hyperparams, cv=None, scoring='neg_root_mean_squared_error', return_train_score=True)\n",
        "\n",
        "grid_cv.fit(x_train_w2, y_train)"
      ],
      "id": "5B8M_1sgDaHS"
    },
    {
      "cell_type": "code",
      "execution_count": null,
      "metadata": {
        "colab": {
          "base_uri": "https://localhost:8080/"
        },
        "id": "mOO3bvu5E2ic",
        "outputId": "cee3a0ee-5693-49e5-b4c1-a84204ee4bd1"
      },
      "outputs": [
        {
          "name": "stdout",
          "output_type": "stream",
          "text": [
            "{'alpha': 1e-05}\n",
            "-0.6589144453702316\n"
          ]
        }
      ],
      "source": [
        "print(grid_cv.best_params_)\n",
        "print(grid_cv.best_score_)"
      ],
      "id": "mOO3bvu5E2ic"
    },
    {
      "cell_type": "code",
      "execution_count": null,
      "metadata": {
        "colab": {
          "base_uri": "https://localhost:8080/",
          "height": 532
        },
        "id": "t-BLw8Zeao_M",
        "outputId": "2f16656c-a121-4ad5-d647-fe038000b874"
      },
      "outputs": [
        {
          "data": {
            "text/html": [
              "\n",
              "  <div id=\"df-db2ef083-34f9-4e5b-9510-825892070335\">\n",
              "    <div class=\"colab-df-container\">\n",
              "      <div>\n",
              "<style scoped>\n",
              "    .dataframe tbody tr th:only-of-type {\n",
              "        vertical-align: middle;\n",
              "    }\n",
              "\n",
              "    .dataframe tbody tr th {\n",
              "        vertical-align: top;\n",
              "    }\n",
              "\n",
              "    .dataframe thead th {\n",
              "        text-align: right;\n",
              "    }\n",
              "</style>\n",
              "<table border=\"1\" class=\"dataframe\">\n",
              "  <thead>\n",
              "    <tr style=\"text-align: right;\">\n",
              "      <th></th>\n",
              "      <th>mean_fit_time</th>\n",
              "      <th>std_fit_time</th>\n",
              "      <th>mean_score_time</th>\n",
              "      <th>std_score_time</th>\n",
              "      <th>param_alpha</th>\n",
              "      <th>params</th>\n",
              "      <th>split0_test_score</th>\n",
              "      <th>split1_test_score</th>\n",
              "      <th>split2_test_score</th>\n",
              "      <th>split3_test_score</th>\n",
              "      <th>...</th>\n",
              "      <th>mean_test_score</th>\n",
              "      <th>std_test_score</th>\n",
              "      <th>rank_test_score</th>\n",
              "      <th>split0_train_score</th>\n",
              "      <th>split1_train_score</th>\n",
              "      <th>split2_train_score</th>\n",
              "      <th>split3_train_score</th>\n",
              "      <th>split4_train_score</th>\n",
              "      <th>mean_train_score</th>\n",
              "      <th>std_train_score</th>\n",
              "    </tr>\n",
              "  </thead>\n",
              "  <tbody>\n",
              "    <tr>\n",
              "      <th>0</th>\n",
              "      <td>417.062636</td>\n",
              "      <td>9.156045</td>\n",
              "      <td>0.191194</td>\n",
              "      <td>0.038218</td>\n",
              "      <td>0.00001</td>\n",
              "      <td>{'alpha': 1e-05}</td>\n",
              "      <td>-0.657267</td>\n",
              "      <td>-0.661059</td>\n",
              "      <td>-0.657066</td>\n",
              "      <td>-0.659540</td>\n",
              "      <td>...</td>\n",
              "      <td>-0.658914</td>\n",
              "      <td>0.001526</td>\n",
              "      <td>1</td>\n",
              "      <td>-0.659080</td>\n",
              "      <td>-0.658139</td>\n",
              "      <td>-0.659134</td>\n",
              "      <td>-0.658518</td>\n",
              "      <td>-0.658489</td>\n",
              "      <td>-0.658672</td>\n",
              "      <td>0.000380</td>\n",
              "    </tr>\n",
              "    <tr>\n",
              "      <th>1</th>\n",
              "      <td>285.135636</td>\n",
              "      <td>7.771291</td>\n",
              "      <td>0.165916</td>\n",
              "      <td>0.012856</td>\n",
              "      <td>0.0001</td>\n",
              "      <td>{'alpha': 0.0001}</td>\n",
              "      <td>-0.657990</td>\n",
              "      <td>-0.661704</td>\n",
              "      <td>-0.657717</td>\n",
              "      <td>-0.660221</td>\n",
              "      <td>...</td>\n",
              "      <td>-0.659587</td>\n",
              "      <td>0.001513</td>\n",
              "      <td>2</td>\n",
              "      <td>-0.659787</td>\n",
              "      <td>-0.658835</td>\n",
              "      <td>-0.659834</td>\n",
              "      <td>-0.659214</td>\n",
              "      <td>-0.659202</td>\n",
              "      <td>-0.659375</td>\n",
              "      <td>0.000381</td>\n",
              "    </tr>\n",
              "    <tr>\n",
              "      <th>2</th>\n",
              "      <td>49.727679</td>\n",
              "      <td>3.559573</td>\n",
              "      <td>0.126351</td>\n",
              "      <td>0.006368</td>\n",
              "      <td>0.001</td>\n",
              "      <td>{'alpha': 0.001}</td>\n",
              "      <td>-0.670046</td>\n",
              "      <td>-0.673535</td>\n",
              "      <td>-0.669789</td>\n",
              "      <td>-0.672035</td>\n",
              "      <td>...</td>\n",
              "      <td>-0.671514</td>\n",
              "      <td>0.001408</td>\n",
              "      <td>3</td>\n",
              "      <td>-0.671824</td>\n",
              "      <td>-0.670884</td>\n",
              "      <td>-0.671912</td>\n",
              "      <td>-0.671291</td>\n",
              "      <td>-0.671228</td>\n",
              "      <td>-0.671428</td>\n",
              "      <td>0.000386</td>\n",
              "    </tr>\n",
              "    <tr>\n",
              "      <th>3</th>\n",
              "      <td>11.879067</td>\n",
              "      <td>0.072149</td>\n",
              "      <td>0.112427</td>\n",
              "      <td>0.002178</td>\n",
              "      <td>0.01</td>\n",
              "      <td>{'alpha': 0.01}</td>\n",
              "      <td>-0.717912</td>\n",
              "      <td>-0.720748</td>\n",
              "      <td>-0.718488</td>\n",
              "      <td>-0.719973</td>\n",
              "      <td>...</td>\n",
              "      <td>-0.719456</td>\n",
              "      <td>0.001073</td>\n",
              "      <td>4</td>\n",
              "      <td>-0.719815</td>\n",
              "      <td>-0.719048</td>\n",
              "      <td>-0.719744</td>\n",
              "      <td>-0.719342</td>\n",
              "      <td>-0.719306</td>\n",
              "      <td>-0.719451</td>\n",
              "      <td>0.000287</td>\n",
              "    </tr>\n",
              "    <tr>\n",
              "      <th>4</th>\n",
              "      <td>10.956657</td>\n",
              "      <td>0.027172</td>\n",
              "      <td>0.111225</td>\n",
              "      <td>0.003746</td>\n",
              "      <td>0.1</td>\n",
              "      <td>{'alpha': 0.1}</td>\n",
              "      <td>-0.742641</td>\n",
              "      <td>-0.745069</td>\n",
              "      <td>-0.743186</td>\n",
              "      <td>-0.744766</td>\n",
              "      <td>...</td>\n",
              "      <td>-0.744082</td>\n",
              "      <td>0.000976</td>\n",
              "      <td>5</td>\n",
              "      <td>-0.744441</td>\n",
              "      <td>-0.743859</td>\n",
              "      <td>-0.744285</td>\n",
              "      <td>-0.743893</td>\n",
              "      <td>-0.743922</td>\n",
              "      <td>-0.744080</td>\n",
              "      <td>0.000237</td>\n",
              "    </tr>\n",
              "    <tr>\n",
              "      <th>5</th>\n",
              "      <td>10.180621</td>\n",
              "      <td>0.020677</td>\n",
              "      <td>0.117208</td>\n",
              "      <td>0.006557</td>\n",
              "      <td>1</td>\n",
              "      <td>{'alpha': 1}</td>\n",
              "      <td>-0.748260</td>\n",
              "      <td>-0.750826</td>\n",
              "      <td>-0.748651</td>\n",
              "      <td>-0.750256</td>\n",
              "      <td>...</td>\n",
              "      <td>-0.749669</td>\n",
              "      <td>0.001017</td>\n",
              "      <td>6</td>\n",
              "      <td>-0.750021</td>\n",
              "      <td>-0.749380</td>\n",
              "      <td>-0.749923</td>\n",
              "      <td>-0.749523</td>\n",
              "      <td>-0.749498</td>\n",
              "      <td>-0.749669</td>\n",
              "      <td>0.000254</td>\n",
              "    </tr>\n",
              "    <tr>\n",
              "      <th>6</th>\n",
              "      <td>10.144253</td>\n",
              "      <td>0.057789</td>\n",
              "      <td>0.114802</td>\n",
              "      <td>0.001953</td>\n",
              "      <td>10</td>\n",
              "      <td>{'alpha': 10}</td>\n",
              "      <td>-0.748312</td>\n",
              "      <td>-0.750899</td>\n",
              "      <td>-0.748709</td>\n",
              "      <td>-0.750330</td>\n",
              "      <td>...</td>\n",
              "      <td>-0.749730</td>\n",
              "      <td>0.001022</td>\n",
              "      <td>7</td>\n",
              "      <td>-0.750081</td>\n",
              "      <td>-0.749440</td>\n",
              "      <td>-0.749984</td>\n",
              "      <td>-0.749583</td>\n",
              "      <td>-0.749559</td>\n",
              "      <td>-0.749729</td>\n",
              "      <td>0.000254</td>\n",
              "    </tr>\n",
              "    <tr>\n",
              "      <th>7</th>\n",
              "      <td>9.851693</td>\n",
              "      <td>0.028938</td>\n",
              "      <td>0.109779</td>\n",
              "      <td>0.003487</td>\n",
              "      <td>100</td>\n",
              "      <td>{'alpha': 100}</td>\n",
              "      <td>-0.748555</td>\n",
              "      <td>-0.751159</td>\n",
              "      <td>-0.748957</td>\n",
              "      <td>-0.750592</td>\n",
              "      <td>...</td>\n",
              "      <td>-0.749980</td>\n",
              "      <td>0.001027</td>\n",
              "      <td>8</td>\n",
              "      <td>-0.750336</td>\n",
              "      <td>-0.749685</td>\n",
              "      <td>-0.750235</td>\n",
              "      <td>-0.749827</td>\n",
              "      <td>-0.749816</td>\n",
              "      <td>-0.749980</td>\n",
              "      <td>0.000257</td>\n",
              "    </tr>\n",
              "  </tbody>\n",
              "</table>\n",
              "<p>8 rows × 21 columns</p>\n",
              "</div>\n",
              "      <button class=\"colab-df-convert\" onclick=\"convertToInteractive('df-db2ef083-34f9-4e5b-9510-825892070335')\"\n",
              "              title=\"Convert this dataframe to an interactive table.\"\n",
              "              style=\"display:none;\">\n",
              "        \n",
              "  <svg xmlns=\"http://www.w3.org/2000/svg\" height=\"24px\"viewBox=\"0 0 24 24\"\n",
              "       width=\"24px\">\n",
              "    <path d=\"M0 0h24v24H0V0z\" fill=\"none\"/>\n",
              "    <path d=\"M18.56 5.44l.94 2.06.94-2.06 2.06-.94-2.06-.94-.94-2.06-.94 2.06-2.06.94zm-11 1L8.5 8.5l.94-2.06 2.06-.94-2.06-.94L8.5 2.5l-.94 2.06-2.06.94zm10 10l.94 2.06.94-2.06 2.06-.94-2.06-.94-.94-2.06-.94 2.06-2.06.94z\"/><path d=\"M17.41 7.96l-1.37-1.37c-.4-.4-.92-.59-1.43-.59-.52 0-1.04.2-1.43.59L10.3 9.45l-7.72 7.72c-.78.78-.78 2.05 0 2.83L4 21.41c.39.39.9.59 1.41.59.51 0 1.02-.2 1.41-.59l7.78-7.78 2.81-2.81c.8-.78.8-2.07 0-2.86zM5.41 20L4 18.59l7.72-7.72 1.47 1.35L5.41 20z\"/>\n",
              "  </svg>\n",
              "      </button>\n",
              "      \n",
              "  <style>\n",
              "    .colab-df-container {\n",
              "      display:flex;\n",
              "      flex-wrap:wrap;\n",
              "      gap: 12px;\n",
              "    }\n",
              "\n",
              "    .colab-df-convert {\n",
              "      background-color: #E8F0FE;\n",
              "      border: none;\n",
              "      border-radius: 50%;\n",
              "      cursor: pointer;\n",
              "      display: none;\n",
              "      fill: #1967D2;\n",
              "      height: 32px;\n",
              "      padding: 0 0 0 0;\n",
              "      width: 32px;\n",
              "    }\n",
              "\n",
              "    .colab-df-convert:hover {\n",
              "      background-color: #E2EBFA;\n",
              "      box-shadow: 0px 1px 2px rgba(60, 64, 67, 0.3), 0px 1px 3px 1px rgba(60, 64, 67, 0.15);\n",
              "      fill: #174EA6;\n",
              "    }\n",
              "\n",
              "    [theme=dark] .colab-df-convert {\n",
              "      background-color: #3B4455;\n",
              "      fill: #D2E3FC;\n",
              "    }\n",
              "\n",
              "    [theme=dark] .colab-df-convert:hover {\n",
              "      background-color: #434B5C;\n",
              "      box-shadow: 0px 1px 3px 1px rgba(0, 0, 0, 0.15);\n",
              "      filter: drop-shadow(0px 1px 2px rgba(0, 0, 0, 0.3));\n",
              "      fill: #FFFFFF;\n",
              "    }\n",
              "  </style>\n",
              "\n",
              "      <script>\n",
              "        const buttonEl =\n",
              "          document.querySelector('#df-db2ef083-34f9-4e5b-9510-825892070335 button.colab-df-convert');\n",
              "        buttonEl.style.display =\n",
              "          google.colab.kernel.accessAllowed ? 'block' : 'none';\n",
              "\n",
              "        async function convertToInteractive(key) {\n",
              "          const element = document.querySelector('#df-db2ef083-34f9-4e5b-9510-825892070335');\n",
              "          const dataTable =\n",
              "            await google.colab.kernel.invokeFunction('convertToInteractive',\n",
              "                                                     [key], {});\n",
              "          if (!dataTable) return;\n",
              "\n",
              "          const docLinkHtml = 'Like what you see? Visit the ' +\n",
              "            '<a target=\"_blank\" href=https://colab.research.google.com/notebooks/data_table.ipynb>data table notebook</a>'\n",
              "            + ' to learn more about interactive tables.';\n",
              "          element.innerHTML = '';\n",
              "          dataTable['output_type'] = 'display_data';\n",
              "          await google.colab.output.renderOutput(dataTable, element);\n",
              "          const docLink = document.createElement('div');\n",
              "          docLink.innerHTML = docLinkHtml;\n",
              "          element.appendChild(docLink);\n",
              "        }\n",
              "      </script>\n",
              "    </div>\n",
              "  </div>\n",
              "  "
            ],
            "text/plain": [
              "   mean_fit_time  std_fit_time  mean_score_time  std_score_time param_alpha  \\\n",
              "0     417.062636      9.156045         0.191194        0.038218     0.00001   \n",
              "1     285.135636      7.771291         0.165916        0.012856      0.0001   \n",
              "2      49.727679      3.559573         0.126351        0.006368       0.001   \n",
              "3      11.879067      0.072149         0.112427        0.002178        0.01   \n",
              "4      10.956657      0.027172         0.111225        0.003746         0.1   \n",
              "5      10.180621      0.020677         0.117208        0.006557           1   \n",
              "6      10.144253      0.057789         0.114802        0.001953          10   \n",
              "7       9.851693      0.028938         0.109779        0.003487         100   \n",
              "\n",
              "              params  split0_test_score  split1_test_score  split2_test_score  \\\n",
              "0   {'alpha': 1e-05}          -0.657267          -0.661059          -0.657066   \n",
              "1  {'alpha': 0.0001}          -0.657990          -0.661704          -0.657717   \n",
              "2   {'alpha': 0.001}          -0.670046          -0.673535          -0.669789   \n",
              "3    {'alpha': 0.01}          -0.717912          -0.720748          -0.718488   \n",
              "4     {'alpha': 0.1}          -0.742641          -0.745069          -0.743186   \n",
              "5       {'alpha': 1}          -0.748260          -0.750826          -0.748651   \n",
              "6      {'alpha': 10}          -0.748312          -0.750899          -0.748709   \n",
              "7     {'alpha': 100}          -0.748555          -0.751159          -0.748957   \n",
              "\n",
              "   split3_test_score  ...  mean_test_score  std_test_score  rank_test_score  \\\n",
              "0          -0.659540  ...        -0.658914        0.001526                1   \n",
              "1          -0.660221  ...        -0.659587        0.001513                2   \n",
              "2          -0.672035  ...        -0.671514        0.001408                3   \n",
              "3          -0.719973  ...        -0.719456        0.001073                4   \n",
              "4          -0.744766  ...        -0.744082        0.000976                5   \n",
              "5          -0.750256  ...        -0.749669        0.001017                6   \n",
              "6          -0.750330  ...        -0.749730        0.001022                7   \n",
              "7          -0.750592  ...        -0.749980        0.001027                8   \n",
              "\n",
              "   split0_train_score  split1_train_score  split2_train_score  \\\n",
              "0           -0.659080           -0.658139           -0.659134   \n",
              "1           -0.659787           -0.658835           -0.659834   \n",
              "2           -0.671824           -0.670884           -0.671912   \n",
              "3           -0.719815           -0.719048           -0.719744   \n",
              "4           -0.744441           -0.743859           -0.744285   \n",
              "5           -0.750021           -0.749380           -0.749923   \n",
              "6           -0.750081           -0.749440           -0.749984   \n",
              "7           -0.750336           -0.749685           -0.750235   \n",
              "\n",
              "   split3_train_score  split4_train_score  mean_train_score  std_train_score  \n",
              "0           -0.658518           -0.658489         -0.658672         0.000380  \n",
              "1           -0.659214           -0.659202         -0.659375         0.000381  \n",
              "2           -0.671291           -0.671228         -0.671428         0.000386  \n",
              "3           -0.719342           -0.719306         -0.719451         0.000287  \n",
              "4           -0.743893           -0.743922         -0.744080         0.000237  \n",
              "5           -0.749523           -0.749498         -0.749669         0.000254  \n",
              "6           -0.749583           -0.749559         -0.749729         0.000254  \n",
              "7           -0.749827           -0.749816         -0.749980         0.000257  \n",
              "\n",
              "[8 rows x 21 columns]"
            ]
          },
          "execution_count": 26,
          "metadata": {},
          "output_type": "execute_result"
        }
      ],
      "source": [
        "pd.DataFrame(grid_cv.cv_results_)"
      ],
      "id": "t-BLw8Zeao_M"
    },
    {
      "cell_type": "code",
      "source": [],
      "metadata": {
        "id": "bWho5NiEaGsT"
      },
      "id": "bWho5NiEaGsT",
      "execution_count": null,
      "outputs": []
    },
    {
      "cell_type": "markdown",
      "source": [
        "From hyperparameter tuning we got the best value for Alpha = 10**-5"
      ],
      "metadata": {
        "id": "h5LvfptLaHS-"
      },
      "id": "h5LvfptLaHS-"
    },
    {
      "cell_type": "code",
      "execution_count": null,
      "metadata": {
        "colab": {
          "base_uri": "https://localhost:8080/"
        },
        "id": "m_hOcEl1hyBi",
        "outputId": "5533782e-a07e-4fe6-d996-40430d1368b4"
      },
      "outputs": [
        {
          "output_type": "execute_result",
          "data": {
            "text/plain": [
              "Lasso(alpha=1e-05)"
            ]
          },
          "metadata": {},
          "execution_count": 24
        }
      ],
      "source": [
        "laso = Lasso(alpha = 10**-5)\n",
        "laso.fit(x_train_w2,y_train)"
      ],
      "id": "m_hOcEl1hyBi"
    },
    {
      "cell_type": "code",
      "execution_count": null,
      "metadata": {
        "id": "aGZMyOn4h3h3"
      },
      "outputs": [],
      "source": [
        "# TRAIN PREDICTION\n",
        "train_pred_l1 = laso.predict(x_train_w2)\n",
        "# VALIDATION PREDICTION\n",
        "val_pred_l1 = laso.predict(x_cv_w2v)"
      ],
      "id": "aGZMyOn4h3h3"
    },
    {
      "cell_type": "code",
      "execution_count": null,
      "metadata": {
        "colab": {
          "base_uri": "https://localhost:8080/"
        },
        "id": "CVULgOn0Bo3o",
        "outputId": "f4349268-5f25-4ea4-e388-06b3c1c8cbcd"
      },
      "outputs": [
        {
          "data": {
            "text/plain": [
              "0.6586969033112064"
            ]
          },
          "execution_count": 22,
          "metadata": {},
          "output_type": "execute_result"
        }
      ],
      "source": [
        "# TRAIN ERROR - without stemming\n",
        "np.sqrt(mean_squared_error(y_train, train_pred_l1))"
      ],
      "id": "CVULgOn0Bo3o"
    },
    {
      "cell_type": "code",
      "execution_count": null,
      "metadata": {
        "colab": {
          "base_uri": "https://localhost:8080/"
        },
        "id": "-aSDXSFVBzZH",
        "outputId": "68ab1e53-9828-4062-cb82-3687fd63315f"
      },
      "outputs": [
        {
          "data": {
            "text/plain": [
              "0.6566150600647892"
            ]
          },
          "execution_count": 23,
          "metadata": {},
          "output_type": "execute_result"
        }
      ],
      "source": [
        "# VALIDATION ERROR -- without stemming\n",
        "np.sqrt(mean_squared_error(y_cv , val_pred_l1))"
      ],
      "id": "-aSDXSFVBzZH"
    },
    {
      "cell_type": "markdown",
      "source": [
        "Ridge"
      ],
      "metadata": {
        "id": "TewtZRbJXEW_"
      },
      "id": "TewtZRbJXEW_"
    },
    {
      "cell_type": "markdown",
      "source": [
        "GridSearchCV to find best Alpha for Ridge"
      ],
      "metadata": {
        "id": "e7QVOca-fA95"
      },
      "id": "e7QVOca-fA95"
    },
    {
      "cell_type": "code",
      "source": [
        "classifier = Ridge()\n",
        "hyperparams = [{'alpha': [10**x for x in range(-3,6)]}]\n",
        "\n",
        "grid_cv = GridSearchCV(classifier, hyperparams, cv=None, scoring='neg_root_mean_squared_error', return_train_score=True)\n",
        "\n",
        "grid_cv.fit(x_train_w2, y_train)"
      ],
      "metadata": {
        "colab": {
          "base_uri": "https://localhost:8080/"
        },
        "id": "YjkLKxpkXF6b",
        "outputId": "d6852970-4dfe-4c4f-ce4f-dd230f14407b"
      },
      "id": "YjkLKxpkXF6b",
      "execution_count": null,
      "outputs": [
        {
          "output_type": "execute_result",
          "data": {
            "text/plain": [
              "GridSearchCV(estimator=Ridge(),\n",
              "             param_grid=[{'alpha': [0.001, 0.01, 0.1, 1, 10, 100, 1000, 10000,\n",
              "                                    100000]}],\n",
              "             return_train_score=True, scoring='neg_root_mean_squared_error')"
            ]
          },
          "metadata": {},
          "execution_count": 22
        }
      ]
    },
    {
      "cell_type": "code",
      "source": [
        "pd.DataFrame(grid_cv.cv_results_, columns = ['params', 'mean_test_score', 'std_test_score','rank_test_score', 'mean_train_score'])"
      ],
      "metadata": {
        "colab": {
          "base_uri": "https://localhost:8080/",
          "height": 332
        },
        "id": "H8D8Ef2OfNZL",
        "outputId": "e00ecda4-5890-4f76-f7da-5ca5aecd2c80"
      },
      "id": "H8D8Ef2OfNZL",
      "execution_count": null,
      "outputs": [
        {
          "output_type": "execute_result",
          "data": {
            "text/plain": [
              "              params  mean_test_score  std_test_score  rank_test_score  \\\n",
              "0   {'alpha': 0.001}        -0.658906        0.001529                5   \n",
              "1    {'alpha': 0.01}        -0.658906        0.001529                4   \n",
              "2     {'alpha': 0.1}        -0.658906        0.001529                3   \n",
              "3       {'alpha': 1}        -0.658906        0.001529                2   \n",
              "4      {'alpha': 10}        -0.658906        0.001527                1   \n",
              "5     {'alpha': 100}        -0.658946        0.001518                6   \n",
              "6    {'alpha': 1000}        -0.660301        0.001485                7   \n",
              "7   {'alpha': 10000}        -0.670739        0.001408                8   \n",
              "8  {'alpha': 100000}        -0.699501        0.001155                9   \n",
              "\n",
              "   mean_train_score  \n",
              "0         -0.658660  \n",
              "1         -0.658660  \n",
              "2         -0.658660  \n",
              "3         -0.658660  \n",
              "4         -0.658661  \n",
              "5         -0.658708  \n",
              "6         -0.660107  \n",
              "7         -0.670648  \n",
              "8         -0.699477  "
            ],
            "text/html": [
              "\n",
              "  <div id=\"df-2548a90b-5b6a-4acc-8dca-b85ee0069a33\">\n",
              "    <div class=\"colab-df-container\">\n",
              "      <div>\n",
              "<style scoped>\n",
              "    .dataframe tbody tr th:only-of-type {\n",
              "        vertical-align: middle;\n",
              "    }\n",
              "\n",
              "    .dataframe tbody tr th {\n",
              "        vertical-align: top;\n",
              "    }\n",
              "\n",
              "    .dataframe thead th {\n",
              "        text-align: right;\n",
              "    }\n",
              "</style>\n",
              "<table border=\"1\" class=\"dataframe\">\n",
              "  <thead>\n",
              "    <tr style=\"text-align: right;\">\n",
              "      <th></th>\n",
              "      <th>params</th>\n",
              "      <th>mean_test_score</th>\n",
              "      <th>std_test_score</th>\n",
              "      <th>rank_test_score</th>\n",
              "      <th>mean_train_score</th>\n",
              "    </tr>\n",
              "  </thead>\n",
              "  <tbody>\n",
              "    <tr>\n",
              "      <th>0</th>\n",
              "      <td>{'alpha': 0.001}</td>\n",
              "      <td>-0.658906</td>\n",
              "      <td>0.001529</td>\n",
              "      <td>5</td>\n",
              "      <td>-0.658660</td>\n",
              "    </tr>\n",
              "    <tr>\n",
              "      <th>1</th>\n",
              "      <td>{'alpha': 0.01}</td>\n",
              "      <td>-0.658906</td>\n",
              "      <td>0.001529</td>\n",
              "      <td>4</td>\n",
              "      <td>-0.658660</td>\n",
              "    </tr>\n",
              "    <tr>\n",
              "      <th>2</th>\n",
              "      <td>{'alpha': 0.1}</td>\n",
              "      <td>-0.658906</td>\n",
              "      <td>0.001529</td>\n",
              "      <td>3</td>\n",
              "      <td>-0.658660</td>\n",
              "    </tr>\n",
              "    <tr>\n",
              "      <th>3</th>\n",
              "      <td>{'alpha': 1}</td>\n",
              "      <td>-0.658906</td>\n",
              "      <td>0.001529</td>\n",
              "      <td>2</td>\n",
              "      <td>-0.658660</td>\n",
              "    </tr>\n",
              "    <tr>\n",
              "      <th>4</th>\n",
              "      <td>{'alpha': 10}</td>\n",
              "      <td>-0.658906</td>\n",
              "      <td>0.001527</td>\n",
              "      <td>1</td>\n",
              "      <td>-0.658661</td>\n",
              "    </tr>\n",
              "    <tr>\n",
              "      <th>5</th>\n",
              "      <td>{'alpha': 100}</td>\n",
              "      <td>-0.658946</td>\n",
              "      <td>0.001518</td>\n",
              "      <td>6</td>\n",
              "      <td>-0.658708</td>\n",
              "    </tr>\n",
              "    <tr>\n",
              "      <th>6</th>\n",
              "      <td>{'alpha': 1000}</td>\n",
              "      <td>-0.660301</td>\n",
              "      <td>0.001485</td>\n",
              "      <td>7</td>\n",
              "      <td>-0.660107</td>\n",
              "    </tr>\n",
              "    <tr>\n",
              "      <th>7</th>\n",
              "      <td>{'alpha': 10000}</td>\n",
              "      <td>-0.670739</td>\n",
              "      <td>0.001408</td>\n",
              "      <td>8</td>\n",
              "      <td>-0.670648</td>\n",
              "    </tr>\n",
              "    <tr>\n",
              "      <th>8</th>\n",
              "      <td>{'alpha': 100000}</td>\n",
              "      <td>-0.699501</td>\n",
              "      <td>0.001155</td>\n",
              "      <td>9</td>\n",
              "      <td>-0.699477</td>\n",
              "    </tr>\n",
              "  </tbody>\n",
              "</table>\n",
              "</div>\n",
              "      <button class=\"colab-df-convert\" onclick=\"convertToInteractive('df-2548a90b-5b6a-4acc-8dca-b85ee0069a33')\"\n",
              "              title=\"Convert this dataframe to an interactive table.\"\n",
              "              style=\"display:none;\">\n",
              "        \n",
              "  <svg xmlns=\"http://www.w3.org/2000/svg\" height=\"24px\"viewBox=\"0 0 24 24\"\n",
              "       width=\"24px\">\n",
              "    <path d=\"M0 0h24v24H0V0z\" fill=\"none\"/>\n",
              "    <path d=\"M18.56 5.44l.94 2.06.94-2.06 2.06-.94-2.06-.94-.94-2.06-.94 2.06-2.06.94zm-11 1L8.5 8.5l.94-2.06 2.06-.94-2.06-.94L8.5 2.5l-.94 2.06-2.06.94zm10 10l.94 2.06.94-2.06 2.06-.94-2.06-.94-.94-2.06-.94 2.06-2.06.94z\"/><path d=\"M17.41 7.96l-1.37-1.37c-.4-.4-.92-.59-1.43-.59-.52 0-1.04.2-1.43.59L10.3 9.45l-7.72 7.72c-.78.78-.78 2.05 0 2.83L4 21.41c.39.39.9.59 1.41.59.51 0 1.02-.2 1.41-.59l7.78-7.78 2.81-2.81c.8-.78.8-2.07 0-2.86zM5.41 20L4 18.59l7.72-7.72 1.47 1.35L5.41 20z\"/>\n",
              "  </svg>\n",
              "      </button>\n",
              "      \n",
              "  <style>\n",
              "    .colab-df-container {\n",
              "      display:flex;\n",
              "      flex-wrap:wrap;\n",
              "      gap: 12px;\n",
              "    }\n",
              "\n",
              "    .colab-df-convert {\n",
              "      background-color: #E8F0FE;\n",
              "      border: none;\n",
              "      border-radius: 50%;\n",
              "      cursor: pointer;\n",
              "      display: none;\n",
              "      fill: #1967D2;\n",
              "      height: 32px;\n",
              "      padding: 0 0 0 0;\n",
              "      width: 32px;\n",
              "    }\n",
              "\n",
              "    .colab-df-convert:hover {\n",
              "      background-color: #E2EBFA;\n",
              "      box-shadow: 0px 1px 2px rgba(60, 64, 67, 0.3), 0px 1px 3px 1px rgba(60, 64, 67, 0.15);\n",
              "      fill: #174EA6;\n",
              "    }\n",
              "\n",
              "    [theme=dark] .colab-df-convert {\n",
              "      background-color: #3B4455;\n",
              "      fill: #D2E3FC;\n",
              "    }\n",
              "\n",
              "    [theme=dark] .colab-df-convert:hover {\n",
              "      background-color: #434B5C;\n",
              "      box-shadow: 0px 1px 3px 1px rgba(0, 0, 0, 0.15);\n",
              "      filter: drop-shadow(0px 1px 2px rgba(0, 0, 0, 0.3));\n",
              "      fill: #FFFFFF;\n",
              "    }\n",
              "  </style>\n",
              "\n",
              "      <script>\n",
              "        const buttonEl =\n",
              "          document.querySelector('#df-2548a90b-5b6a-4acc-8dca-b85ee0069a33 button.colab-df-convert');\n",
              "        buttonEl.style.display =\n",
              "          google.colab.kernel.accessAllowed ? 'block' : 'none';\n",
              "\n",
              "        async function convertToInteractive(key) {\n",
              "          const element = document.querySelector('#df-2548a90b-5b6a-4acc-8dca-b85ee0069a33');\n",
              "          const dataTable =\n",
              "            await google.colab.kernel.invokeFunction('convertToInteractive',\n",
              "                                                     [key], {});\n",
              "          if (!dataTable) return;\n",
              "\n",
              "          const docLinkHtml = 'Like what you see? Visit the ' +\n",
              "            '<a target=\"_blank\" href=https://colab.research.google.com/notebooks/data_table.ipynb>data table notebook</a>'\n",
              "            + ' to learn more about interactive tables.';\n",
              "          element.innerHTML = '';\n",
              "          dataTable['output_type'] = 'display_data';\n",
              "          await google.colab.output.renderOutput(dataTable, element);\n",
              "          const docLink = document.createElement('div');\n",
              "          docLink.innerHTML = docLinkHtml;\n",
              "          element.appendChild(docLink);\n",
              "        }\n",
              "      </script>\n",
              "    </div>\n",
              "  </div>\n",
              "  "
            ]
          },
          "metadata": {},
          "execution_count": 26
        }
      ]
    },
    {
      "cell_type": "markdown",
      "source": [
        "We are getting best results for alpha = 1 or 10. Using this value to train the regressor again"
      ],
      "metadata": {
        "id": "xKQeLvAZaY14"
      },
      "id": "xKQeLvAZaY14"
    },
    {
      "cell_type": "code",
      "source": [
        "ridge_best = Ridge(alpha=1)\n",
        "ridge_best.fit(x_train_w2, y_train)"
      ],
      "metadata": {
        "colab": {
          "base_uri": "https://localhost:8080/"
        },
        "id": "YOtXoDzYXF3L",
        "outputId": "9f8007f9-e5fc-466a-dbb7-53d3b5ff792c"
      },
      "id": "YOtXoDzYXF3L",
      "execution_count": null,
      "outputs": [
        {
          "output_type": "execute_result",
          "data": {
            "text/plain": [
              "Ridge(alpha=1)"
            ]
          },
          "metadata": {},
          "execution_count": 21
        }
      ]
    },
    {
      "cell_type": "code",
      "source": [
        "# TRAIN PREDICTION\n",
        "train_pred_l2 = ridge_best.predict(x_train_w2)\n",
        "# VALIDATION PREDICTION\n",
        "val_pred_l2 = ridge_best.predict(x_cv_w2v)"
      ],
      "metadata": {
        "id": "SXFkH13vhTIR"
      },
      "id": "SXFkH13vhTIR",
      "execution_count": null,
      "outputs": []
    },
    {
      "cell_type": "code",
      "source": [
        "print(np.sqrt(mean_squared_error(y_train, train_pred_l2)))\n",
        "print(np.sqrt(mean_squared_error(y_cv , val_pred_l2)))"
      ],
      "metadata": {
        "colab": {
          "base_uri": "https://localhost:8080/"
        },
        "id": "YVtbW73IhcDa",
        "outputId": "c6ada8d4-e684-4121-f7d7-be5dfc43d046"
      },
      "id": "YVtbW73IhcDa",
      "execution_count": null,
      "outputs": [
        {
          "output_type": "stream",
          "name": "stdout",
          "text": [
            "0.6586848126857683\n",
            "0.6566140528402704\n"
          ]
        }
      ]
    },
    {
      "cell_type": "code",
      "source": [],
      "metadata": {
        "id": "eHTWur7lakyX"
      },
      "id": "eHTWur7lakyX",
      "execution_count": null,
      "outputs": []
    },
    {
      "cell_type": "markdown",
      "metadata": {
        "id": "hMblCz77ruxs"
      },
      "source": [
        "Decision Tree"
      ],
      "id": "hMblCz77ruxs"
    },
    {
      "cell_type": "markdown",
      "source": [
        "Manual search for hyper-parameter tuning"
      ],
      "metadata": {
        "id": "yaQAO7Kc1nup"
      },
      "id": "yaQAO7Kc1nup"
    },
    {
      "cell_type": "code",
      "source": [
        "from sklearn.tree import DecisionTreeRegressor\n",
        "\n",
        "def findbestparameter(depth, x_tr, y_tr, x_cv, y_cv):\n",
        "\n",
        "  dt_best = DecisionTreeRegressor(criterion=\"squared_error\",max_depth=depth, max_features=\"auto\")\n",
        "  dt_best.fit(x_tr, y_tr)\n",
        "  predict_cv = dt_best.predict(x_cv)\n",
        "  print(\"CV error for Max_depth:{} is\".format(depth), np.sqrt(mean_squared_error(y_cv , predict_cv)))\n",
        "\n",
        "for depth in [7,10,12,15]: \n",
        "  findbestparameter(depth, x_train_w2, y_train, x_cv_w2v, y_cv)"
      ],
      "metadata": {
        "colab": {
          "base_uri": "https://localhost:8080/"
        },
        "id": "yX-_wfro1l19",
        "outputId": "f7fd4b9e-ee28-4338-844d-76421b659e64"
      },
      "id": "yX-_wfro1l19",
      "execution_count": null,
      "outputs": [
        {
          "output_type": "stream",
          "name": "stdout",
          "text": [
            "CV error for Max_depth:7 is 0.6638750300656487\n",
            "CV error for Max_depth:10 is 0.6386888791521571\n",
            "CV error for Max_depth:12 is 0.6289284779131978\n",
            "CV error for Max_depth:15 is 0.6455573021802852\n"
          ]
        }
      ]
    },
    {
      "cell_type": "code",
      "execution_count": null,
      "metadata": {
        "id": "KExcaroflwPw"
      },
      "outputs": [],
      "source": [],
      "id": "KExcaroflwPw"
    },
    {
      "cell_type": "code",
      "execution_count": null,
      "metadata": {
        "colab": {
          "base_uri": "https://localhost:8080/"
        },
        "id": "b41OGdu7rvjh",
        "outputId": "18fe33d2-f0bc-4571-8312-6c80ee9e2803"
      },
      "outputs": [
        {
          "output_type": "execute_result",
          "data": {
            "text/plain": [
              "DecisionTreeRegressor(max_depth=12, max_features='auto')"
            ]
          },
          "metadata": {},
          "execution_count": 28
        }
      ],
      "source": [
        "from sklearn.tree import DecisionTreeRegressor\n",
        "\n",
        "dt_best = DecisionTreeRegressor(criterion=\"squared_error\",max_depth=12, max_features=\"auto\")\n",
        "dt_best.fit(x_train_w2, y_train)\n"
      ],
      "id": "b41OGdu7rvjh"
    },
    {
      "cell_type": "code",
      "execution_count": null,
      "metadata": {
        "id": "IMzlGfqDr8aQ"
      },
      "outputs": [],
      "source": [
        "# TRAIN PREDICTIONS\n",
        "train_pred_dt = dt_best.predict(x_train_w2)\n",
        "# VALIDATION PREDICTIONS\n",
        "val_pred_dt = dt_best.predict(x_cv_w2v)"
      ],
      "id": "IMzlGfqDr8aQ"
    },
    {
      "cell_type": "code",
      "execution_count": null,
      "metadata": {
        "colab": {
          "base_uri": "https://localhost:8080/"
        },
        "id": "lYl9Szd3u0Hs",
        "outputId": "db1ea2a0-346d-43c8-a3d7-2277c5a49509"
      },
      "outputs": [
        {
          "output_type": "execute_result",
          "data": {
            "text/plain": [
              "0.6311514825223409"
            ]
          },
          "metadata": {},
          "execution_count": 22
        }
      ],
      "source": [
        "# TRAIN ERROR\n",
        "np.sqrt(mean_squared_error(y_train , train_pred_dt))"
      ],
      "id": "lYl9Szd3u0Hs"
    },
    {
      "cell_type": "code",
      "execution_count": null,
      "metadata": {
        "colab": {
          "base_uri": "https://localhost:8080/"
        },
        "id": "MxrPVIszu2rd",
        "outputId": "096ed2cc-7e59-4dc7-8000-c5738990ab05"
      },
      "outputs": [
        {
          "output_type": "execute_result",
          "data": {
            "text/plain": [
              "0.6386873446816325"
            ]
          },
          "metadata": {},
          "execution_count": 23
        }
      ],
      "source": [
        "# VALIDATION ERROR\n",
        "np.sqrt(mean_squared_error(y_cv , val_pred_dt))"
      ],
      "id": "MxrPVIszu2rd"
    },
    {
      "cell_type": "code",
      "execution_count": null,
      "metadata": {
        "id": "IW-MBWvLvRWi"
      },
      "outputs": [],
      "source": [],
      "id": "IW-MBWvLvRWi"
    },
    {
      "cell_type": "markdown",
      "metadata": {
        "id": "NBlRgd3JEnGI"
      },
      "source": [
        "Random forest"
      ],
      "id": "NBlRgd3JEnGI"
    },
    {
      "cell_type": "code",
      "execution_count": null,
      "metadata": {
        "id": "V2EN11waEosS",
        "colab": {
          "base_uri": "https://localhost:8080/"
        },
        "outputId": "00ac6b3d-8400-441c-c9bf-0faae33ccd1a"
      },
      "outputs": [
        {
          "output_type": "execute_result",
          "data": {
            "text/plain": [
              "RandomForestRegressor(n_estimators=10, random_state=0)"
            ]
          },
          "metadata": {},
          "execution_count": 24
        }
      ],
      "source": [
        "from sklearn.ensemble import RandomForestRegressor\n",
        "  \n",
        "# create regressor object\n",
        "rf_regressor = RandomForestRegressor(n_estimators = 10, random_state = 0)\n",
        "\n",
        "rf_regressor.fit(x_train_w2, y_train)"
      ],
      "id": "V2EN11waEosS"
    },
    {
      "cell_type": "markdown",
      "source": [
        "took 1-2 hours for n_estimators = 10, hence not yet ran for more estimators."
      ],
      "metadata": {
        "id": "cvsn4cvTbfnx"
      },
      "id": "cvsn4cvTbfnx"
    },
    {
      "cell_type": "code",
      "execution_count": null,
      "metadata": {
        "id": "dPyWHIozEW7X"
      },
      "outputs": [],
      "source": [
        "# TRAIN PREDICTION\n",
        "train_pred_rf = rf_regressor.predict(x_train_w2)\n",
        "# VALIDATION PREDICTION\n",
        "val_pred_rf = rf_regressor.predict(x_cv_w2v)"
      ],
      "id": "dPyWHIozEW7X"
    },
    {
      "cell_type": "code",
      "source": [
        "print(np.sqrt(mean_squared_error(y_train, train_pred_rf)))\n",
        "print(np.sqrt(mean_squared_error(y_cv , val_pred_rf)))"
      ],
      "metadata": {
        "colab": {
          "base_uri": "https://localhost:8080/"
        },
        "id": "98auKz2Jbxmi",
        "outputId": "2a0591e4-bfd4-4655-a183-2ff724f3be94"
      },
      "id": "98auKz2Jbxmi",
      "execution_count": null,
      "outputs": [
        {
          "output_type": "stream",
          "name": "stdout",
          "text": [
            "0.25134413592257443\n",
            "0.582917633372024\n"
          ]
        }
      ]
    },
    {
      "cell_type": "code",
      "source": [],
      "metadata": {
        "id": "BRgGF83UW9uO"
      },
      "id": "BRgGF83UW9uO",
      "execution_count": null,
      "outputs": []
    },
    {
      "cell_type": "markdown",
      "source": [
        "Light Gradient Boosting Machine"
      ],
      "metadata": {
        "id": "0VHgabLjEjKE"
      },
      "id": "0VHgabLjEjKE"
    },
    {
      "cell_type": "code",
      "source": [
        "#pip install lightgbm"
      ],
      "metadata": {
        "id": "Sj5vNEwPEiZU"
      },
      "id": "Sj5vNEwPEiZU",
      "execution_count": null,
      "outputs": []
    },
    {
      "cell_type": "code",
      "source": [
        "import lightgbm as lgb\n",
        "from lightgbm import LGBMRegressor"
      ],
      "metadata": {
        "id": "AuBCwYWuEiV_"
      },
      "id": "AuBCwYWuEiV_",
      "execution_count": null,
      "outputs": []
    },
    {
      "cell_type": "code",
      "source": [
        "def find_best_lgb_parameter(estimator, x_tr, y_tr, x_cv, y_cv):\n",
        "\n",
        "  model = LGBMRegressor(n_estimators = estimator)\n",
        "  model.fit(x_tr, y_tr)\n",
        "  predict_cv = model.predict(x_cv)\n",
        "  print(\"CV error for Max_depth:{} is\".format(estimator), np.sqrt(mean_squared_error(y_cv , predict_cv)))\n",
        "\n",
        "for estimator in [10,100,1000,1200,1300,1400]: \n",
        "  find_best_lgb_parameter(estimator, x_train_w2, y_train, x_cv_w2v, y_cv)"
      ],
      "metadata": {
        "colab": {
          "base_uri": "https://localhost:8080/"
        },
        "id": "ZRh4zjqvE74X",
        "outputId": "f6191efc-a9e5-492c-e9f3-4cbaf84ba1ad"
      },
      "id": "ZRh4zjqvE74X",
      "execution_count": null,
      "outputs": [
        {
          "output_type": "stream",
          "name": "stdout",
          "text": [
            "CV error for Max_depth:10 is 0.6723209364480769\n",
            "CV error for Max_depth:100 is 0.5787502133352906\n",
            "CV error for Max_depth:1000 is 0.518565024675861\n",
            "CV error for Max_depth:1200 is 0.5159646306057264\n",
            "CV error for Max_depth:1300 is 0.5147603388807999\n",
            "CV error for Max_depth:1400 is 0.513684187020763\n"
          ]
        }
      ]
    },
    {
      "cell_type": "code",
      "source": [
        "model = LGBMRegressor(n_estimators = 1700)\n",
        "model.fit(x_train_w2, y_train)\n",
        "\n",
        "predict_tr = model.predict(x_train_w2)\n",
        "predict_cv = model.predict(x_cv_w2v)"
      ],
      "metadata": {
        "id": "_sn84EDQTdb1"
      },
      "id": "_sn84EDQTdb1",
      "execution_count": null,
      "outputs": []
    },
    {
      "cell_type": "code",
      "source": [
        "#for n_estimators = 1500\n",
        "print(np.sqrt(mean_squared_error(y_train, predict_tr)))\n",
        "print(np.sqrt(mean_squared_error(y_cv , predict_cv)))"
      ],
      "metadata": {
        "colab": {
          "base_uri": "https://localhost:8080/"
        },
        "id": "LBSnimr0TnrR",
        "outputId": "29befa72-c12c-4105-9278-f0dea3bb9c2c"
      },
      "id": "LBSnimr0TnrR",
      "execution_count": null,
      "outputs": [
        {
          "output_type": "stream",
          "name": "stdout",
          "text": [
            "0.4818167984917683\n",
            "0.5128741548642093\n"
          ]
        }
      ]
    },
    {
      "cell_type": "code",
      "source": [
        "#for n_estimators = 1600\n",
        "print(np.sqrt(mean_squared_error(y_train, predict_tr)))\n",
        "print(np.sqrt(mean_squared_error(y_cv , predict_cv)))"
      ],
      "metadata": {
        "colab": {
          "base_uri": "https://localhost:8080/"
        },
        "id": "2s_KCTooN3RR",
        "outputId": "4c2d55ed-bbc8-4a23-f6be-c16a4c606d08"
      },
      "id": "2s_KCTooN3RR",
      "execution_count": null,
      "outputs": [
        {
          "output_type": "stream",
          "name": "stdout",
          "text": [
            "0.47888745237746705\n",
            "0.5119911827873267\n"
          ]
        }
      ]
    },
    {
      "cell_type": "code",
      "source": [
        "#for n_estimators = 1700\n",
        "print(np.sqrt(mean_squared_error(y_train, predict_tr)))\n",
        "print(np.sqrt(mean_squared_error(y_cv , predict_cv)))"
      ],
      "metadata": {
        "colab": {
          "base_uri": "https://localhost:8080/"
        },
        "id": "LGs-K9ABV8eb",
        "outputId": "d8afc765-2ef3-4832-a3f8-06bc7fc6e2f1"
      },
      "id": "LGs-K9ABV8eb",
      "execution_count": null,
      "outputs": [
        {
          "output_type": "stream",
          "name": "stdout",
          "text": [
            "0.4758793211089417\n",
            "0.5110757335586951\n"
          ]
        }
      ]
    },
    {
      "cell_type": "code",
      "source": [],
      "metadata": {
        "id": "HgaEzmuBFseh"
      },
      "id": "HgaEzmuBFseh",
      "execution_count": null,
      "outputs": []
    },
    {
      "cell_type": "markdown",
      "source": [
        "Collating all results"
      ],
      "metadata": {
        "id": "2wJ9qIOJbRpX"
      },
      "id": "2wJ9qIOJbRpX"
    },
    {
      "cell_type": "code",
      "source": [
        "from prettytable import PrettyTable\n",
        "\n",
        "table = PrettyTable()\n",
        "table.field_names = [\"Model\", \"CV Error\"]\n",
        "\n",
        "table.add_row(['Benchmark','0.7438'])\n",
        "table.add_row(['Lasso','0.6566'])\n",
        "table.add_row(['Ridge','0.6566'])\n",
        "table.add_row(['Decision Tree','0.6311'])\n",
        "table.add_row(['Random Forest','0.5829'])\n",
        "table.add_row(['LGBM','0.5110'])\n",
        "\n",
        "print(table)"
      ],
      "metadata": {
        "colab": {
          "base_uri": "https://localhost:8080/"
        },
        "id": "wro1lXkSb33W",
        "outputId": "5422e8a1-445d-4ba4-e050-76e4b0440f70"
      },
      "id": "wro1lXkSb33W",
      "execution_count": 1,
      "outputs": [
        {
          "output_type": "stream",
          "name": "stdout",
          "text": [
            "+---------------+----------+\n",
            "|     Model     | CV Error |\n",
            "+---------------+----------+\n",
            "|   Benchmark   |  0.7438  |\n",
            "|     Lasso     |  0.6566  |\n",
            "|     Ridge     |  0.6566  |\n",
            "| Decision Tree |  0.6311  |\n",
            "| Random Forest |  0.5829  |\n",
            "|      LGBM     |  0.5110  |\n",
            "+---------------+----------+\n"
          ]
        }
      ]
    },
    {
      "cell_type": "code",
      "source": [],
      "metadata": {
        "id": "HemAnjFFc_27"
      },
      "id": "HemAnjFFc_27",
      "execution_count": null,
      "outputs": []
    }
  ],
  "metadata": {
    "colab": {
      "provenance": []
    },
    "kernelspec": {
      "display_name": "Python 3 (ipykernel)",
      "language": "python",
      "name": "python3"
    },
    "language_info": {
      "codemirror_mode": {
        "name": "ipython",
        "version": 3
      },
      "file_extension": ".py",
      "mimetype": "text/x-python",
      "name": "python",
      "nbconvert_exporter": "python",
      "pygments_lexer": "ipython3",
      "version": "3.8.8"
    }
  },
  "nbformat": 4,
  "nbformat_minor": 5
}