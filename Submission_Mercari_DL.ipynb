{
 "cells": [
  {
   "cell_type": "code",
   "execution_count": null,
   "metadata": {
    "colab": {
     "base_uri": "https://localhost:8080/"
    },
    "id": "EAhZzS_22KAv",
    "outputId": "d0768e84-58f9-4d02-901d-db09093f5322"
   },
   "outputs": [
    {
     "name": "stdout",
     "output_type": "stream",
     "text": [
      "Mounted at /content/gdrive\n"
     ]
    }
   ],
   "source": [
    "from google.colab import drive\n",
    "drive.mount('/content/gdrive')"
   ]
  },
  {
   "cell_type": "code",
   "execution_count": null,
   "metadata": {
    "id": "sWHdz_qy2Od9"
   },
   "outputs": [],
   "source": [
    "import pandas as pd\n",
    "import numpy as np\n",
    "from tqdm import tqdm\n",
    "from sklearn.model_selection import train_test_split\n",
    "\n",
    "from tensorflow.keras.preprocessing.text import Tokenizer\n",
    "import nltk\n",
    "from nltk.tokenize import word_tokenize\n",
    "from tensorflow.keras.preprocessing.sequence import pad_sequences"
   ]
  },
  {
   "cell_type": "code",
   "execution_count": null,
   "metadata": {
    "colab": {
     "base_uri": "https://localhost:8080/"
    },
    "id": "GVpbip1B2RQV",
    "outputId": "57dd9dd8-4cf6-47e1-a2b8-c13ea21a5047"
   },
   "outputs": [
    {
     "data": {
      "text/plain": [
       "(1482535, 10)"
      ]
     },
     "execution_count": 3,
     "metadata": {},
     "output_type": "execute_result"
    }
   ],
   "source": [
    "dir_path = '/content/gdrive/My Drive/Colab/'\n",
    "\n",
    "df = pd.read_csv(dir_path+\"processed_1stNov.csv\") #  processed_1stNov.csv   final train\n",
    "df.shape"
   ]
  },
  {
   "cell_type": "code",
   "execution_count": null,
   "metadata": {
    "colab": {
     "base_uri": "https://localhost:8080/",
     "height": 250
    },
    "id": "dya64h_p2eS4",
    "outputId": "6c833e18-6064-41d8-cfd6-21039d289cd6"
   },
   "outputs": [
    {
     "data": {
      "text/html": [
       "\n",
       "  <div id=\"df-f9258d1b-6e1a-495b-b05b-f87e9cb13ce8\">\n",
       "    <div class=\"colab-df-container\">\n",
       "      <div>\n",
       "<style scoped>\n",
       "    .dataframe tbody tr th:only-of-type {\n",
       "        vertical-align: middle;\n",
       "    }\n",
       "\n",
       "    .dataframe tbody tr th {\n",
       "        vertical-align: top;\n",
       "    }\n",
       "\n",
       "    .dataframe thead th {\n",
       "        text-align: right;\n",
       "    }\n",
       "</style>\n",
       "<table border=\"1\" class=\"dataframe\">\n",
       "  <thead>\n",
       "    <tr style=\"text-align: right;\">\n",
       "      <th></th>\n",
       "      <th>Unnamed: 0</th>\n",
       "      <th>Unnamed: 0.1</th>\n",
       "      <th>item_condition_id</th>\n",
       "      <th>brand_name</th>\n",
       "      <th>shipping</th>\n",
       "      <th>Category</th>\n",
       "      <th>Sub_Category_1</th>\n",
       "      <th>Sub_Category_2</th>\n",
       "      <th>combined</th>\n",
       "    </tr>\n",
       "  </thead>\n",
       "  <tbody>\n",
       "    <tr>\n",
       "      <th>0</th>\n",
       "      <td>0</td>\n",
       "      <td>0</td>\n",
       "      <td>3</td>\n",
       "      <td>mlb</td>\n",
       "      <td>1</td>\n",
       "      <td>Men</td>\n",
       "      <td>Tops</td>\n",
       "      <td>T-shirts</td>\n",
       "      <td>mlb cincinnati red t shirt size xl descript yet</td>\n",
       "    </tr>\n",
       "    <tr>\n",
       "      <th>1</th>\n",
       "      <td>1</td>\n",
       "      <td>1</td>\n",
       "      <td>3</td>\n",
       "      <td>razer</td>\n",
       "      <td>0</td>\n",
       "      <td>Electronics</td>\n",
       "      <td>Computers &amp; Tablets</td>\n",
       "      <td>Components &amp; Parts</td>\n",
       "      <td>razer blackwidow chroma keyboard keyboard grea...</td>\n",
       "    </tr>\n",
       "    <tr>\n",
       "      <th>2</th>\n",
       "      <td>2</td>\n",
       "      <td>2</td>\n",
       "      <td>1</td>\n",
       "      <td>target</td>\n",
       "      <td>1</td>\n",
       "      <td>Women</td>\n",
       "      <td>Tops &amp; Blouses</td>\n",
       "      <td>Blouse</td>\n",
       "      <td>avaviv blous ador top hint lace key hole back ...</td>\n",
       "    </tr>\n",
       "    <tr>\n",
       "      <th>3</th>\n",
       "      <td>3</td>\n",
       "      <td>3</td>\n",
       "      <td>1</td>\n",
       "      <td>missing</td>\n",
       "      <td>1</td>\n",
       "      <td>Home</td>\n",
       "      <td>Home Décor</td>\n",
       "      <td>Home Décor Accents</td>\n",
       "      <td>leather hors statu new tag leather hors retail...</td>\n",
       "    </tr>\n",
       "    <tr>\n",
       "      <th>4</th>\n",
       "      <td>4</td>\n",
       "      <td>4</td>\n",
       "      <td>1</td>\n",
       "      <td>missing</td>\n",
       "      <td>0</td>\n",
       "      <td>Women</td>\n",
       "      <td>Jewelry</td>\n",
       "      <td>Necklaces</td>\n",
       "      <td>24k gold plate rose complet certif authent</td>\n",
       "    </tr>\n",
       "  </tbody>\n",
       "</table>\n",
       "</div>\n",
       "      <button class=\"colab-df-convert\" onclick=\"convertToInteractive('df-f9258d1b-6e1a-495b-b05b-f87e9cb13ce8')\"\n",
       "              title=\"Convert this dataframe to an interactive table.\"\n",
       "              style=\"display:none;\">\n",
       "        \n",
       "  <svg xmlns=\"http://www.w3.org/2000/svg\" height=\"24px\"viewBox=\"0 0 24 24\"\n",
       "       width=\"24px\">\n",
       "    <path d=\"M0 0h24v24H0V0z\" fill=\"none\"/>\n",
       "    <path d=\"M18.56 5.44l.94 2.06.94-2.06 2.06-.94-2.06-.94-.94-2.06-.94 2.06-2.06.94zm-11 1L8.5 8.5l.94-2.06 2.06-.94-2.06-.94L8.5 2.5l-.94 2.06-2.06.94zm10 10l.94 2.06.94-2.06 2.06-.94-2.06-.94-.94-2.06-.94 2.06-2.06.94z\"/><path d=\"M17.41 7.96l-1.37-1.37c-.4-.4-.92-.59-1.43-.59-.52 0-1.04.2-1.43.59L10.3 9.45l-7.72 7.72c-.78.78-.78 2.05 0 2.83L4 21.41c.39.39.9.59 1.41.59.51 0 1.02-.2 1.41-.59l7.78-7.78 2.81-2.81c.8-.78.8-2.07 0-2.86zM5.41 20L4 18.59l7.72-7.72 1.47 1.35L5.41 20z\"/>\n",
       "  </svg>\n",
       "      </button>\n",
       "      \n",
       "  <style>\n",
       "    .colab-df-container {\n",
       "      display:flex;\n",
       "      flex-wrap:wrap;\n",
       "      gap: 12px;\n",
       "    }\n",
       "\n",
       "    .colab-df-convert {\n",
       "      background-color: #E8F0FE;\n",
       "      border: none;\n",
       "      border-radius: 50%;\n",
       "      cursor: pointer;\n",
       "      display: none;\n",
       "      fill: #1967D2;\n",
       "      height: 32px;\n",
       "      padding: 0 0 0 0;\n",
       "      width: 32px;\n",
       "    }\n",
       "\n",
       "    .colab-df-convert:hover {\n",
       "      background-color: #E2EBFA;\n",
       "      box-shadow: 0px 1px 2px rgba(60, 64, 67, 0.3), 0px 1px 3px 1px rgba(60, 64, 67, 0.15);\n",
       "      fill: #174EA6;\n",
       "    }\n",
       "\n",
       "    [theme=dark] .colab-df-convert {\n",
       "      background-color: #3B4455;\n",
       "      fill: #D2E3FC;\n",
       "    }\n",
       "\n",
       "    [theme=dark] .colab-df-convert:hover {\n",
       "      background-color: #434B5C;\n",
       "      box-shadow: 0px 1px 3px 1px rgba(0, 0, 0, 0.15);\n",
       "      filter: drop-shadow(0px 1px 2px rgba(0, 0, 0, 0.3));\n",
       "      fill: #FFFFFF;\n",
       "    }\n",
       "  </style>\n",
       "\n",
       "      <script>\n",
       "        const buttonEl =\n",
       "          document.querySelector('#df-f9258d1b-6e1a-495b-b05b-f87e9cb13ce8 button.colab-df-convert');\n",
       "        buttonEl.style.display =\n",
       "          google.colab.kernel.accessAllowed ? 'block' : 'none';\n",
       "\n",
       "        async function convertToInteractive(key) {\n",
       "          const element = document.querySelector('#df-f9258d1b-6e1a-495b-b05b-f87e9cb13ce8');\n",
       "          const dataTable =\n",
       "            await google.colab.kernel.invokeFunction('convertToInteractive',\n",
       "                                                     [key], {});\n",
       "          if (!dataTable) return;\n",
       "\n",
       "          const docLinkHtml = 'Like what you see? Visit the ' +\n",
       "            '<a target=\"_blank\" href=https://colab.research.google.com/notebooks/data_table.ipynb>data table notebook</a>'\n",
       "            + ' to learn more about interactive tables.';\n",
       "          element.innerHTML = '';\n",
       "          dataTable['output_type'] = 'display_data';\n",
       "          await google.colab.output.renderOutput(dataTable, element);\n",
       "          const docLink = document.createElement('div');\n",
       "          docLink.innerHTML = docLinkHtml;\n",
       "          element.appendChild(docLink);\n",
       "        }\n",
       "      </script>\n",
       "    </div>\n",
       "  </div>\n",
       "  "
      ],
      "text/plain": [
       "   Unnamed: 0  Unnamed: 0.1  item_condition_id brand_name  shipping  \\\n",
       "0           0             0                  3        mlb         1   \n",
       "1           1             1                  3      razer         0   \n",
       "2           2             2                  1     target         1   \n",
       "3           3             3                  1    missing         1   \n",
       "4           4             4                  1    missing         0   \n",
       "\n",
       "      Category       Sub_Category_1      Sub_Category_2  \\\n",
       "0          Men                 Tops            T-shirts   \n",
       "1  Electronics  Computers & Tablets  Components & Parts   \n",
       "2        Women       Tops & Blouses              Blouse   \n",
       "3         Home           Home Décor  Home Décor Accents   \n",
       "4        Women              Jewelry           Necklaces   \n",
       "\n",
       "                                            combined  \n",
       "0    mlb cincinnati red t shirt size xl descript yet  \n",
       "1  razer blackwidow chroma keyboard keyboard grea...  \n",
       "2  avaviv blous ador top hint lace key hole back ...  \n",
       "3  leather hors statu new tag leather hors retail...  \n",
       "4         24k gold plate rose complet certif authent  "
      ]
     },
     "execution_count": 4,
     "metadata": {},
     "output_type": "execute_result"
    }
   ],
   "source": [
    "y = df['log_price']\n",
    "df.drop('log_price', axis=1, inplace=True)\n",
    "df.head()"
   ]
  },
  {
   "cell_type": "code",
   "execution_count": null,
   "metadata": {
    "colab": {
     "base_uri": "https://localhost:8080/"
    },
    "id": "dZbowCCd2h2D",
    "outputId": "cdea8f08-a960-4c91-cb06-3d90d636343a"
   },
   "outputs": [
    {
     "name": "stdout",
     "output_type": "stream",
     "text": [
      "Shape of X_train: (1037774, 9)\n",
      "Shape of X_cv: (444761, 9)\n",
      "Shape of Y_train: (1037774,)\n",
      "Shape of Y_cv: (444761,)\n"
     ]
    }
   ],
   "source": [
    "X_train, X_cv, y_train, y_cv = train_test_split(df, y, test_size=0.3, random_state=0)\n",
    "\n",
    "del(df)\n",
    "del(y)\n",
    "\n",
    "print(\"Shape of X_train:\", X_train.shape)\n",
    "print(\"Shape of X_cv:\", X_cv.shape)\n",
    "\n",
    "print(\"Shape of Y_train:\", y_train.shape)\n",
    "print(\"Shape of Y_cv:\", y_cv.shape)"
   ]
  },
  {
   "cell_type": "code",
   "execution_count": null,
   "metadata": {
    "id": "4E7wWueV22jv"
   },
   "outputs": [],
   "source": []
  },
  {
   "cell_type": "markdown",
   "metadata": {
    "id": "5nOj0Y0B_KsU"
   },
   "source": [
    " Text Tokenization and Padding to be used for Embedding Layer\n"
   ]
  },
  {
   "cell_type": "code",
   "execution_count": null,
   "metadata": {
    "id": "PPAUmzyPdvPL"
   },
   "outputs": [],
   "source": [
    "#finding the appropriate number of words to be used for padding\n",
    "a = []\n",
    "for i in X_train['combined']:\n",
    "  a.append(len(i.split(\" \")))\n",
    "\n",
    "b = []\n",
    "for i in X_train['brand_name']:\n",
    "  b.append(len(i.split(\" \")))"
   ]
  },
  {
   "cell_type": "code",
   "execution_count": null,
   "metadata": {
    "colab": {
     "base_uri": "https://localhost:8080/",
     "height": 355
    },
    "id": "H2uNv9-Od6OF",
    "outputId": "5d8eb346-6cd2-4412-ec20-c086a225a3bf"
   },
   "outputs": [
    {
     "data": {
      "text/plain": [
       "(array([6.71063e+05, 2.34964e+05, 6.63700e+04, 3.09860e+04, 1.65150e+04,\n",
       "        1.20440e+04, 4.69300e+03, 1.05900e+03, 7.30000e+01, 7.00000e+00]),\n",
       " array([  1. ,  20.3,  39.6,  58.9,  78.2,  97.5, 116.8, 136.1, 155.4,\n",
       "        174.7, 194. ]),\n",
       " <a list of 10 Patch objects>)"
      ]
     },
     "execution_count": 17,
     "metadata": {},
     "output_type": "execute_result"
    },
    {
     "data": {
      "image/png": "[encoded data removed]",
      "text/plain": [
       "<Figure size 432x288 with 1 Axes>"
      ]
     },
     "metadata": {},
     "output_type": "display_data"
    }
   ],
   "source": [
    "import matplotlib.pyplot as plt\n",
    "\n",
    "plt.hist(a)"
   ]
  },
  {
   "cell_type": "code",
   "execution_count": null,
   "metadata": {
    "colab": {
     "base_uri": "https://localhost:8080/",
     "height": 336
    },
    "id": "8Y6YecLOd9d5",
    "outputId": "cd214211-d017-4bd1-ca47-bc09f7f0c063"
   },
   "outputs": [
    {
     "data": {
      "text/plain": [
       "(array([7.68445e+05, 0.00000e+00, 1.94356e+05, 0.00000e+00, 6.94760e+04,\n",
       "        0.00000e+00, 5.40300e+03, 0.00000e+00, 8.60000e+01, 8.00000e+00]),\n",
       " array([1. , 1.5, 2. , 2.5, 3. , 3.5, 4. , 4.5, 5. , 5.5, 6. ]),\n",
       " <a list of 10 Patch objects>)"
      ]
     },
     "execution_count": 7,
     "metadata": {},
     "output_type": "execute_result"
    },
    {
     "data": {
      "image/png": "[encoded data removed]",
      "text/plain": [
       "<Figure size 432x288 with 1 Axes>"
      ]
     },
     "metadata": {},
     "output_type": "display_data"
    }
   ],
   "source": [
    "plt.hist(b)"
   ]
  },
  {
   "cell_type": "code",
   "execution_count": null,
   "metadata": {
    "id": "k_T2ibSrd-_h"
   },
   "outputs": [],
   "source": [
    "#hyperparameters\n",
    "pad_length_combined = 50\n",
    "pad_length_brand = 4"
   ]
  },
  {
   "cell_type": "code",
   "execution_count": null,
   "metadata": {
    "id": "wvpkcg5EW6i8"
   },
   "outputs": [],
   "source": [
    "#tokenization for Essay\n",
    "#https://stackoverflow.com/questions/64158898/what-does-keras-tokenizer-num-words-specify\n",
    "\n",
    "def tokenize_and_pad(train_corpus, test_corpus, maxlen):\n",
    "\n",
    "  tokenizer = Tokenizer(oov_token='#OOV#', num_words=None)  #num_words) #num_words=10000\n",
    "  tokenizer.fit_on_texts(train_corpus)\n",
    "\n",
    "  train_tokenized = tokenizer.texts_to_sequences(train_corpus)\n",
    "  train_padded_essay = pad_sequences(train_tokenized, maxlen=maxlen, padding='pre', truncating='pre')\n",
    "  test_tokenized = tokenizer.texts_to_sequences(test_corpus)\n",
    "  test_padded = pad_sequences(test_tokenized, maxlen=maxlen, padding='pre', truncating='pre', dtype='int32')\n",
    "\n",
    "  return train_padded_essay, test_padded, len(tokenizer.word_counts)"
   ]
  },
  {
   "cell_type": "code",
   "execution_count": null,
   "metadata": {
    "id": "rXCBv_18Zy3j"
   },
   "outputs": [],
   "source": [
    "X_train_padded_essay, X_test_padded_essay, num_words_combined = tokenize_and_pad(X_train['combined'], X_cv['combined'], maxlen=pad_length_combined)"
   ]
  },
  {
   "cell_type": "code",
   "execution_count": null,
   "metadata": {
    "id": "y0KJw8BdaC8B"
   },
   "outputs": [],
   "source": [
    "X_train_padded_brand, X_test_padded_brand, num_words_brand = tokenize_and_pad(X_train['brand_name'], X_cv['brand_name'], maxlen=pad_length_brand)"
   ]
  },
  {
   "cell_type": "code",
   "execution_count": null,
   "metadata": {
    "colab": {
     "base_uri": "https://localhost:8080/"
    },
    "id": "sNvTjTAh_lNE",
    "outputId": "692462a5-d60b-4e38-e3ca-5d1ec3330e2e"
   },
   "outputs": [
    {
     "name": "stdout",
     "output_type": "stream",
     "text": [
      "245453\n",
      "4776\n",
      "(1037774, 50)\n",
      "(1037774, 4)\n"
     ]
    }
   ],
   "source": [
    "print(num_words_combined)\n",
    "print(num_words_brand)\n",
    "print(X_train_padded_essay.shape)\n",
    "print(X_train_padded_brand.shape)"
   ]
  },
  {
   "cell_type": "markdown",
   "metadata": {
    "id": "eQbcRKGTrmAN"
   },
   "source": [
    "Numerical Features"
   ]
  },
  {
   "cell_type": "code",
   "execution_count": null,
   "metadata": {
    "id": "rbgcU63FrkRH"
   },
   "outputs": [],
   "source": [
    "from sklearn.preprocessing import StandardScaler\n",
    "scaler = StandardScaler()\n",
    "\n",
    "scaler.fit(X_train[['item_condition_id', 'shipping']])\n",
    "x_train_num_scaled = scaler.transform(X_train[['item_condition_id', 'shipping']])\n",
    "x_test_num_scaled = scaler.transform(X_cv[['item_condition_id', 'shipping']])"
   ]
  },
  {
   "cell_type": "code",
   "execution_count": null,
   "metadata": {
    "colab": {
     "base_uri": "https://localhost:8080/"
    },
    "id": "jOoHkqDi_OO_",
    "outputId": "359e3025-9621-4903-b50c-9970ec7aa777"
   },
   "outputs": [
    {
     "data": {
      "text/plain": [
       "(1037774, 2)"
      ]
     },
     "execution_count": 12,
     "metadata": {},
     "output_type": "execute_result"
    }
   ],
   "source": [
    "x_train_num_scaled.shape"
   ]
  },
  {
   "cell_type": "markdown",
   "metadata": {
    "id": "pa1foHQMufMi"
   },
   "source": [
    "Merging Category and Sub catregories"
   ]
  },
  {
   "cell_type": "code",
   "execution_count": null,
   "metadata": {
    "id": "Ot1ogm4WAkxM"
   },
   "outputs": [],
   "source": [
    "X_train['Categories'] = X_train['Category'] + \" \" + X_train['Sub_Category_1'] + \" \" + X_train['Sub_Category_2']\n",
    "X_cv['Categories'] = X_cv['Category'] + \" \" + X_cv['Sub_Category_1'] + \" \" + X_cv['Sub_Category_2']"
   ]
  },
  {
   "cell_type": "code",
   "execution_count": null,
   "metadata": {
    "colab": {
     "base_uri": "https://localhost:8080/",
     "height": 334
    },
    "id": "if6AWthbxPOo",
    "outputId": "5d192479-9d29-42b4-cb21-569c737ce9e1"
   },
   "outputs": [
    {
     "data": {
      "text/plain": [
       "(array([3.27377e+05, 2.03433e+05, 2.13548e+05, 0.00000e+00, 1.95618e+05,\n",
       "        3.72570e+04, 0.00000e+00, 3.38570e+04, 2.63910e+04, 2.93000e+02]),\n",
       " array([ 3. ,  3.7,  4.4,  5.1,  5.8,  6.5,  7.2,  7.9,  8.6,  9.3, 10. ]),\n",
       " <a list of 10 Patch objects>)"
      ]
     },
     "execution_count": 18,
     "metadata": {},
     "output_type": "execute_result"
    },
    {
     "data": {
      "image/png": "[encoded data removed]",
      "text/plain": [
       "<Figure size 432x288 with 1 Axes>"
      ]
     },
     "metadata": {},
     "output_type": "display_data"
    }
   ],
   "source": [
    "#getting the length of sentences\n",
    "a = []\n",
    "for i in X_train['Categories']:\n",
    "  a.append(len(i.split(\" \")))\n",
    "\n",
    "plt.hist(a)"
   ]
  },
  {
   "cell_type": "markdown",
   "metadata": {
    "id": "3fetwgb0xeKh"
   },
   "source": [
    "We will use 9 as Pad length"
   ]
  },
  {
   "cell_type": "code",
   "execution_count": null,
   "metadata": {
    "colab": {
     "base_uri": "https://localhost:8080/"
    },
    "id": "xpOtIXJ4xPLK",
    "outputId": "268f4d76-33e7-4601-d957-d58e3f6bad2f"
   },
   "outputs": [
    {
     "name": "stdout",
     "output_type": "stream",
     "text": [
      "1007\n",
      "(1037774, 9)\n"
     ]
    }
   ],
   "source": [
    "pad_length_category = 9\n",
    "\n",
    "X_train_padded_category, X_test_padded_category, num_words_category = tokenize_and_pad(X_train['Categories'], X_cv['Categories'], maxlen=pad_length_category)\n",
    "\n",
    "print(num_words_category)\n",
    "print(X_train_padded_category.shape)"
   ]
  },
  {
   "cell_type": "code",
   "execution_count": null,
   "metadata": {
    "id": "EQO6Idt_eW_m"
   },
   "outputs": [],
   "source": []
  },
  {
   "cell_type": "markdown",
   "metadata": {
    "id": "opZmPLfSwpi3"
   },
   "source": [
    "Model -1 : with only Brand, Name & Description fields with Embedding vector of length 50."
   ]
  },
  {
   "cell_type": "code",
   "execution_count": null,
   "metadata": {
    "id": "jpRKuZl9wqjO"
   },
   "outputs": [],
   "source": [
    "from tensorflow.keras.layers import LeakyReLU, Dense,Input,Activation,Embedding, Conv1D, Flatten, Concatenate, MaxPool2D,MaxPool1D, LSTM, Dropout, BatchNormalization\n",
    "from tensorflow.keras.initializers import Constant\n",
    "from tensorflow.keras.initializers import RandomUniform, HeNormal\n",
    "from tensorflow.keras.models import Model\n",
    "from tensorflow.keras.regularizers import l1,l2\n",
    "\n",
    "import tensorflow\n",
    "from keras import backend as K\n",
    "from tensorflow.keras.callbacks import EarlyStopping, ModelCheckpoint,ReduceLROnPlateau, TensorBoard\n"
   ]
  },
  {
   "cell_type": "code",
   "execution_count": null,
   "metadata": {
    "colab": {
     "base_uri": "https://localhost:8080/"
    },
    "id": "sklGutz4wtnW",
    "outputId": "442f1d75-62a7-4c48-e17c-086eb688bb9e"
   },
   "outputs": [
    {
     "name": "stdout",
     "output_type": "stream",
     "text": [
      "Embedding layer: (None, 50, 50)\n",
      "LSTM layer: (None, 50, 50)\n",
      "flatten_0 (None, 2500)\n",
      "Embedding layer: (None, 4, 50)\n",
      "LSTM layer: (None, 4, 50)\n",
      "flatten_b (None, 200)\n"
     ]
    }
   ],
   "source": [
    "#combined\n",
    "embedding_features = 50\n",
    "\n",
    "#reason for adding 2 in num_words: 1 for OOV words, 1 because it takes range so range(6) doesn't include 6.. so we add 1\n",
    "\n",
    "input_combined = Input(shape=(pad_length_combined,))\n",
    "Combined_Embedding_layer=Embedding(num_words_combined+2, embedding_features, input_length=pad_length_combined, name = 'Combined')(input_combined)\n",
    "print('Embedding layer:', Combined_Embedding_layer.shape)\n",
    "lstm_layer = LSTM(50, activation='relu', return_sequences=True, input_shape=(pad_length_combined, embedding_features))(Combined_Embedding_layer)\n",
    "print('LSTM layer:', lstm_layer.shape)\n",
    "flatten_0 = Flatten()(lstm_layer)\n",
    "print(\"flatten_0\", flatten_0.get_shape())\n",
    "\n",
    "#brand\n",
    "input_brand = Input(shape=(pad_length_brand,))\n",
    "Brand_Embedding_layer=Embedding(num_words_brand+2, embedding_features, input_length=pad_length_brand, name = 'Brand')(input_brand)\n",
    "print('Embedding layer:', Brand_Embedding_layer.shape)\n",
    "lstm_layer_b = LSTM(50, activation='relu', return_sequences=True, input_shape=(pad_length_brand, embedding_features))(Brand_Embedding_layer)\n",
    "print('LSTM layer:', lstm_layer_b.shape)\n",
    "flatten_b = Flatten()(lstm_layer_b)\n",
    "print(\"flatten_b\", flatten_b.get_shape())\n",
    "\n",
    "#concatenate\n",
    "merged = Concatenate(axis=-1)([flatten_0, flatten_b])  #, flatten_4, flatten_1, flatten_2, flatten_5, Dense_6])\n",
    "\n",
    "Dense2 = Dense(50,activation='relu')(merged)\n",
    "dropout_1 = Dropout(0.4)(Dense2)\n",
    "Dense3 = Dense(10,activation='relu')(dropout_1)\n",
    "dropout_2 = Dropout(0.2)(Dense3)\n",
    "\n",
    "x = BatchNormalization()(dropout_2)\n",
    "\n",
    "output = Dense(1,activation='relu')(x) #(flatten_0)\n"
   ]
  },
  {
   "cell_type": "code",
   "execution_count": null,
   "metadata": {
    "colab": {
     "base_uri": "https://localhost:8080/"
    },
    "id": "Puo0Ubsq0OC3",
    "outputId": "b1dd103c-b168-4130-ebf3-253935930b6e"
   },
   "outputs": [
    {
     "name": "stdout",
     "output_type": "stream",
     "text": [
      "Model: \"model_9\"\n",
      "__________________________________________________________________________________________________\n",
      " Layer (type)                   Output Shape         Param #     Connected to                     \n",
      "==================================================================================================\n",
      " input_6 (InputLayer)           [(None, 50)]         0           []                               \n",
      "                                                                                                  \n",
      " input_7 (InputLayer)           [(None, 4)]          0           []                               \n",
      "                                                                                                  \n",
      " Combined (Embedding)           (None, 50, 50)       12272750    ['input_6[0][0]']                \n",
      "                                                                                                  \n",
      " Brand (Embedding)              (None, 4, 50)        238900      ['input_7[0][0]']                \n",
      "                                                                                                  \n",
      " lstm_4 (LSTM)                  (None, 50, 50)       20200       ['Combined[0][0]']               \n",
      "                                                                                                  \n",
      " lstm_5 (LSTM)                  (None, 4, 50)        20200       ['Brand[0][0]']                  \n",
      "                                                                                                  \n",
      " flatten_4 (Flatten)            (None, 2500)         0           ['lstm_4[0][0]']                 \n",
      "                                                                                                  \n",
      " flatten_5 (Flatten)            (None, 200)          0           ['lstm_5[0][0]']                 \n",
      "                                                                                                  \n",
      " concatenate_2 (Concatenate)    (None, 2700)         0           ['flatten_4[0][0]',              \n",
      "                                                                  'flatten_5[0][0]']              \n",
      "                                                                                                  \n",
      " dense_6 (Dense)                (None, 50)           135050      ['concatenate_2[0][0]']          \n",
      "                                                                                                  \n",
      " dropout_4 (Dropout)            (None, 50)           0           ['dense_6[0][0]']                \n",
      "                                                                                                  \n",
      " dense_7 (Dense)                (None, 10)           510         ['dropout_4[0][0]']              \n",
      "                                                                                                  \n",
      " dropout_5 (Dropout)            (None, 10)           0           ['dense_7[0][0]']                \n",
      "                                                                                                  \n",
      " batch_normalization_2 (BatchNo  (None, 10)          40          ['dropout_5[0][0]']              \n",
      " rmalization)                                                                                     \n",
      "                                                                                                  \n",
      " dense_8 (Dense)                (None, 1)            11          ['batch_normalization_2[0][0]']  \n",
      "                                                                                                  \n",
      "==================================================================================================\n",
      "Total params: 12,687,661\n",
      "Trainable params: 12,687,641\n",
      "Non-trainable params: 20\n",
      "__________________________________________________________________________________________________\n"
     ]
    }
   ],
   "source": [
    "x = Model(inputs=input_combined, outputs=flatten_0)\n",
    "y = Model(inputs=input_brand, outputs=flatten_b)\n",
    "\n",
    "model = Model(inputs=[x.input, y.input], outputs=output)\n",
    "model.summary()"
   ]
  },
  {
   "cell_type": "code",
   "execution_count": null,
   "metadata": {
    "id": "2AlKUkWO0dsO"
   },
   "outputs": [],
   "source": [
    "x_input = [X_train_padded_essay, X_train_padded_brand]\n",
    "x_validation = [X_test_padded_essay, X_test_padded_brand]\n",
    "\n",
    "#https://towardsdatascience.com/deep-learning-which-loss-and-activation-functions-should-i-use-ac02f1c56aa8\n",
    "#https://stackoverflow.com/questions/43855162/rmse-rmsle-loss-function-in-keras\n",
    "\n",
    "def root_mean_squared_error(y_true, y_pred):\n",
    "        return K.sqrt(K.mean(K.square(y_pred - y_true))) \n",
    "\n",
    "#https://medium.com/analytics-vidhya/a-complete-guide-to-adam-and-rmsprop-optimizer-75f4502d83be\n",
    "#https://towardsdatascience.com/a-look-at-gradient-descent-and-rmsprop-optimizers-f77d483ef08b\n",
    "\n",
    "opt = tensorflow.keras.optimizers.Adam(learning_rate=0.001,decay=1e-8)\n",
    "model.compile(loss=root_mean_squared_error, optimizer=\"rmsprop\", metrics =[\"accuracy\"])\n"
   ]
  },
  {
   "cell_type": "code",
   "execution_count": null,
   "metadata": {
    "colab": {
     "base_uri": "https://localhost:8080/"
    },
    "id": "3i_efj8a1Oqv",
    "outputId": "cab524c7-63de-498b-8fa1-942ac05c16f0"
   },
   "outputs": [
    {
     "name": "stdout",
     "output_type": "stream",
     "text": [
      "Epoch 1/4\n",
      "10378/10378 [==============================] - 1228s 118ms/step - loss: 0.5288 - accuracy: 0.0000e+00 - val_loss: 0.5024 - val_accuracy: 0.0000e+00\n",
      "Epoch 2/4\n",
      "10378/10378 [==============================] - 1158s 112ms/step - loss: 0.5188 - accuracy: 0.0000e+00 - val_loss: 0.5320 - val_accuracy: 0.0000e+00\n",
      "Epoch 3/4\n",
      "10378/10378 [==============================] - 1142s 110ms/step - loss: 0.5100 - accuracy: 0.0000e+00 - val_loss: 0.5316 - val_accuracy: 0.0000e+00\n",
      "Epoch 4/4\n",
      "10378/10378 [==============================] - 1135s 109ms/step - loss: 0.5028 - accuracy: 0.0000e+00 - val_loss: 0.5133 - val_accuracy: 0.0000e+00\n"
     ]
    },
    {
     "data": {
      "text/plain": [
       "<keras.callbacks.History at 0x7f32733a9ac0>"
      ]
     },
     "execution_count": 32,
     "metadata": {},
     "output_type": "execute_result"
    }
   ],
   "source": [
    "model.fit(x=x_input, y=y_train, epochs=4,batch_size=100,\n",
    " validation_data=(x_validation,y_cv))\n",
    "# callbacks=[checkpoint, learning_rate_reduction, history_own, tensorboard_callback])"
   ]
  },
  {
   "cell_type": "code",
   "execution_count": null,
   "metadata": {
    "id": "wgVNWd_c555O"
   },
   "outputs": [],
   "source": []
  },
  {
   "cell_type": "code",
   "execution_count": null,
   "metadata": {
    "id": "AgC3AQlH551n"
   },
   "outputs": [],
   "source": []
  },
  {
   "cell_type": "markdown",
   "metadata": {
    "id": "jZ_1oquo56nH"
   },
   "source": [
    "Model -2 : Using All features with Embedding vector of length 50."
   ]
  },
  {
   "cell_type": "code",
   "execution_count": null,
   "metadata": {
    "id": "-Iu3uTNx0jvg"
   },
   "outputs": [],
   "source": [
    "tensorflow.keras.backend.clear_session()"
   ]
  },
  {
   "cell_type": "code",
   "execution_count": null,
   "metadata": {
    "colab": {
     "base_uri": "https://localhost:8080/"
    },
    "id": "PX0CBPjp55zj",
    "outputId": "a942c87e-a212-49d7-cfbd-d113eae59f5e"
   },
   "outputs": [
    {
     "name": "stdout",
     "output_type": "stream",
     "text": [
      "Embedding layer: (None, 50, 50)\n",
      "LSTM layer: (None, 50, 50)\n",
      "flatten_0 (None, 2500)\n",
      "Embedding layer: (None, 4, 50)\n",
      "LSTM layer: (None, 4, 50)\n",
      "flatten_b (None, 200)\n",
      "Categories Embedding layer: (None, 9, 50)\n",
      "LSTM layer: (None, 9, 50)\n",
      "flatten_c (None, 450)\n",
      "Model: \"model_4\"\n",
      "__________________________________________________________________________________________________\n",
      " Layer (type)                   Output Shape         Param #     Connected to                     \n",
      "==================================================================================================\n",
      " input_1 (InputLayer)           [(None, 50)]         0           []                               \n",
      "                                                                                                  \n",
      " input_2 (InputLayer)           [(None, 4)]          0           []                               \n",
      "                                                                                                  \n",
      " input_3 (InputLayer)           [(None, 9)]          0           []                               \n",
      "                                                                                                  \n",
      " Combined (Embedding)           (None, 50, 50)       12272750    ['input_1[0][0]']                \n",
      "                                                                                                  \n",
      " Brand (Embedding)              (None, 4, 50)        238900      ['input_2[0][0]']                \n",
      "                                                                                                  \n",
      " Categories (Embedding)         (None, 9, 50)        50450       ['input_3[0][0]']                \n",
      "                                                                                                  \n",
      " lstm (LSTM)                    (None, 50, 50)       20200       ['Combined[0][0]']               \n",
      "                                                                                                  \n",
      " lstm_1 (LSTM)                  (None, 4, 50)        20200       ['Brand[0][0]']                  \n",
      "                                                                                                  \n",
      " lstm_2 (LSTM)                  (None, 9, 50)        20200       ['Categories[0][0]']             \n",
      "                                                                                                  \n",
      " input_4 (InputLayer)           [(None, 2)]          0           []                               \n",
      "                                                                                                  \n",
      " flatten (Flatten)              (None, 2500)         0           ['lstm[0][0]']                   \n",
      "                                                                                                  \n",
      " flatten_1 (Flatten)            (None, 200)          0           ['lstm_1[0][0]']                 \n",
      "                                                                                                  \n",
      " flatten_2 (Flatten)            (None, 450)          0           ['lstm_2[0][0]']                 \n",
      "                                                                                                  \n",
      " Dense_Numerical (Dense)        (None, 50)           150         ['input_4[0][0]']                \n",
      "                                                                                                  \n",
      " concatenate (Concatenate)      (None, 3200)         0           ['flatten[0][0]',                \n",
      "                                                                  'flatten_1[0][0]',              \n",
      "                                                                  'flatten_2[0][0]',              \n",
      "                                                                  'Dense_Numerical[0][0]']        \n",
      "                                                                                                  \n",
      " batch_normalization (BatchNorm  (None, 3200)        12800       ['concatenate[0][0]']            \n",
      " alization)                                                                                       \n",
      "                                                                                                  \n",
      " dense (Dense)                  (None, 500)          1600500     ['batch_normalization[0][0]']    \n",
      "                                                                                                  \n",
      " dropout (Dropout)              (None, 500)          0           ['dense[0][0]']                  \n",
      "                                                                                                  \n",
      " dense_1 (Dense)                (None, 100)          50100       ['dropout[0][0]']                \n",
      "                                                                                                  \n",
      " dropout_1 (Dropout)            (None, 100)          0           ['dense_1[0][0]']                \n",
      "                                                                                                  \n",
      " batch_normalization_1 (BatchNo  (None, 100)         400         ['dropout_1[0][0]']              \n",
      " rmalization)                                                                                     \n",
      "                                                                                                  \n",
      " dense_2 (Dense)                (None, 10)           1010        ['batch_normalization_1[0][0]']  \n",
      "                                                                                                  \n",
      " dense_3 (Dense)                (None, 1)            11          ['dense_2[0][0]']                \n",
      "                                                                                                  \n",
      "==================================================================================================\n",
      "Total params: 14,287,671\n",
      "Trainable params: 14,281,071\n",
      "Non-trainable params: 6,600\n",
      "__________________________________________________________________________________________________\n"
     ]
    }
   ],
   "source": [
    "#combined\n",
    "embedding_features = 50\n",
    "\n",
    "#reason for adding 2 in num_words: 1 for OOV words, 1 because it takes range so range(6) doesn't include 6.. so we add 1\n",
    "\n",
    "input_combined = Input(shape=(pad_length_combined,))\n",
    "Combined_Embedding_layer=Embedding(num_words_combined+2, embedding_features, input_length=pad_length_combined, name = 'Combined')(input_combined)\n",
    "print('Embedding layer:', Combined_Embedding_layer.shape)\n",
    "lstm_layer = LSTM(50, activation='relu', return_sequences=True, input_shape=(pad_length_combined, embedding_features))(Combined_Embedding_layer)\n",
    "print('LSTM layer:', lstm_layer.shape)\n",
    "flatten_0 = Flatten()(lstm_layer)\n",
    "print(\"flatten_0\", flatten_0.get_shape())\n",
    "\n",
    "#brand\n",
    "input_brand = Input(shape=(pad_length_brand,))\n",
    "Brand_Embedding_layer=Embedding(num_words_brand+2, embedding_features, input_length=pad_length_brand, name = 'Brand')(input_brand)\n",
    "print('Embedding layer:', Brand_Embedding_layer.shape)\n",
    "lstm_layer_b = LSTM(50, activation='relu', return_sequences=True, input_shape=(pad_length_brand, embedding_features))(Brand_Embedding_layer)\n",
    "print('LSTM layer:', lstm_layer_b.shape)\n",
    "flatten_b = Flatten()(lstm_layer_b)\n",
    "print(\"flatten_b\", flatten_b.get_shape())\n",
    "\n",
    "#categories\n",
    "input_categories = Input(shape=(pad_length_category,))\n",
    "Categories_Embedding_layer=Embedding(num_words_category+2, embedding_features, input_length=pad_length_category, name = 'Categories')(input_categories)\n",
    "print('Categories Embedding layer:', Categories_Embedding_layer.shape)\n",
    "lstm_layer_c = LSTM(50, activation='relu', return_sequences=True, input_shape=(pad_length_category, embedding_features))(Categories_Embedding_layer)\n",
    "print('LSTM layer:', lstm_layer_c.shape)\n",
    "flatten_c = Flatten()(lstm_layer_c)\n",
    "print(\"flatten_c\", flatten_c.get_shape())\n",
    "\n",
    "#numerical features\n",
    "input_numerical = Input(shape=(2,))\n",
    "Dense_6 = Dense(50,activation='relu', name = 'Dense_Numerical')(input_numerical) #try activation relu\n",
    "\n",
    "#concatenate\n",
    "merged = Concatenate(axis=-1)([flatten_0, flatten_b, flatten_c, Dense_6])\n",
    "\n",
    "x = BatchNormalization()(merged)\n",
    "\n",
    "Dense2 = Dense(500, activation='relu')(x) #(merged)\n",
    "dropout_1 = Dropout(0.4)(Dense2)\n",
    "Dense3 = Dense(100,activation='relu')(dropout_1)\n",
    "dropout_2 = Dropout(0.2)(Dense3)\n",
    "x = BatchNormalization()(dropout_2)\n",
    "\n",
    "x = Dense(10,activation='relu')(x) #(flatten_0)\n",
    "output = Dense(1,activation='relu')(x) #(flatten_0)\n",
    "\n",
    "\n",
    "\n",
    "x = Model(inputs=input_combined, outputs=flatten_0)\n",
    "y = Model(inputs=input_brand, outputs=flatten_b)\n",
    "z = Model(inputs=input_categories, outputs=flatten_c)\n",
    "w = Model(inputs=input_numerical, outputs=Dense_6)\n",
    "\n",
    "\n",
    "model = Model(inputs=[x.input, y.input, z.input, w.input], outputs=output)\n",
    "model.summary()"
   ]
  },
  {
   "cell_type": "code",
   "execution_count": null,
   "metadata": {
    "colab": {
     "base_uri": "https://localhost:8080/"
    },
    "id": "B48jcUtA55xJ",
    "outputId": "de733c03-3cf0-4443-fbf5-975243bec2be"
   },
   "outputs": [
    {
     "name": "stdout",
     "output_type": "stream",
     "text": [
      "Epoch 1/10\n",
      "8108/8108 [==============================] - ETA: 0s - loss: 0.5198 - root_mean_squared_error: 0.5258\n",
      "Epoch 1: val_loss improved from inf to 0.46610, saving model to /content/gdrive/My Drive/Colab/best_model2.h5\n",
      "8108/8108 [==============================] - 2116s 260ms/step - loss: 0.5198 - root_mean_squared_error: 0.5258 - val_loss: 0.4661 - val_root_mean_squared_error: 0.4682 - lr: 0.0010\n",
      "Epoch 2/10\n",
      "8108/8108 [==============================] - ETA: 0s - loss: 0.4550 - root_mean_squared_error: 0.4572\n",
      "Epoch 2: val_loss improved from 0.46610 to 0.44957, saving model to /content/gdrive/My Drive/Colab/best_model2.h5\n",
      "8108/8108 [==============================] - 2114s 261ms/step - loss: 0.4550 - root_mean_squared_error: 0.4572 - val_loss: 0.4496 - val_root_mean_squared_error: 0.4517 - lr: 0.0010\n",
      "Epoch 3/10\n",
      "8108/8108 [==============================] - ETA: 0s - loss: 0.4235 - root_mean_squared_error: 0.4256\n",
      "Epoch 3: val_loss improved from 0.44957 to 0.44538, saving model to /content/gdrive/My Drive/Colab/best_model2.h5\n",
      "8108/8108 [==============================] - 2080s 256ms/step - loss: 0.4235 - root_mean_squared_error: 0.4256 - val_loss: 0.4454 - val_root_mean_squared_error: 0.4476 - lr: 0.0010\n",
      "Epoch 4/10\n",
      "8108/8108 [==============================] - ETA: 0s - loss: 0.4004 - root_mean_squared_error: 0.4025\n",
      "Epoch 4: val_loss improved from 0.44538 to 0.44535, saving model to /content/gdrive/My Drive/Colab/best_model2.h5\n",
      "8108/8108 [==============================] - 2050s 253ms/step - loss: 0.4004 - root_mean_squared_error: 0.4025 - val_loss: 0.4454 - val_root_mean_squared_error: 0.4477 - lr: 0.0010\n",
      "Epoch 5/10\n",
      "8108/8108 [==============================] - ETA: 0s - loss: 0.3821 - root_mean_squared_error: 0.3842\n",
      "Epoch 5: val_loss did not improve from 0.44535\n",
      "\n",
      "Epoch 5: ReduceLROnPlateau reducing learning rate to 0.0005000000237487257.\n",
      "8108/8108 [==============================] - 2035s 251ms/step - loss: 0.3821 - root_mean_squared_error: 0.3842 - val_loss: 0.4479 - val_root_mean_squared_error: 0.4503 - lr: 0.0010\n",
      "Epoch 6/10\n",
      "8108/8108 [==============================] - ETA: 0s - loss: 0.3565 - root_mean_squared_error: 0.3585\n",
      "Epoch 6: val_loss improved from 0.44535 to 0.44364, saving model to /content/gdrive/My Drive/Colab/best_model2.h5\n",
      "8108/8108 [==============================] - 2071s 255ms/step - loss: 0.3565 - root_mean_squared_error: 0.3585 - val_loss: 0.4436 - val_root_mean_squared_error: 0.4460 - lr: 5.0000e-04\n",
      "Epoch 7/10\n",
      "8108/8108 [==============================] - ETA: 0s - loss: 0.3445 - root_mean_squared_error: 0.3466\n",
      "Epoch 7: val_loss did not improve from 0.44364\n",
      "8108/8108 [==============================] - 2056s 254ms/step - loss: 0.3445 - root_mean_squared_error: 0.3466 - val_loss: 0.4447 - val_root_mean_squared_error: 0.4471 - lr: 5.0000e-04\n",
      "Epoch 8/10\n",
      "8108/8108 [==============================] - ETA: 0s - loss: 0.3361 - root_mean_squared_error: 0.3383\n",
      "Epoch 8: val_loss did not improve from 0.44364\n",
      "\n",
      "Epoch 8: ReduceLROnPlateau reducing learning rate to 0.0002500000118743628.\n",
      "8108/8108 [==============================] - 2052s 253ms/step - loss: 0.3361 - root_mean_squared_error: 0.3383 - val_loss: 0.4486 - val_root_mean_squared_error: 0.4510 - lr: 5.0000e-04\n",
      "Epoch 9/10\n",
      "8108/8108 [==============================] - ETA: 0s - loss: 0.3228 - root_mean_squared_error: 0.3248\n",
      "Epoch 9: val_loss did not improve from 0.44364\n",
      "8108/8108 [==============================] - 2034s 251ms/step - loss: 0.3228 - root_mean_squared_error: 0.3248 - val_loss: 0.4493 - val_root_mean_squared_error: 0.4518 - lr: 2.5000e-04\n",
      "Epoch 9: early stopping\n"
     ]
    },
    {
     "data": {
      "text/plain": [
       "<keras.callbacks.History at 0x7f8ad226e910>"
      ]
     },
     "execution_count": 26,
     "metadata": {},
     "output_type": "execute_result"
    }
   ],
   "source": [
    "\n",
    "x_input = [X_train_padded_essay, X_train_padded_brand, X_train_padded_category, x_train_num_scaled]\n",
    "x_validation = [X_test_padded_essay, X_test_padded_brand, X_test_padded_category, x_test_num_scaled]\n",
    "\n",
    "filepath= dir_path + \"best_model2.h5\"\n",
    "checkpoint = ModelCheckpoint(filepath=filepath, monitor='val_loss', verbose=1, save_best_only=True, mode='auto')\n",
    "earlystop = EarlyStopping(monitor='val_loss', min_delta=0.001,patience=3, verbose=1)\n",
    "learning_rate_reduction = ReduceLROnPlateau(monitor='val_loss', patience=2, verbose=1, factor=0.5, min_lr=0.0001)\n",
    "\n",
    "#https://towardsdatascience.com/deep-learning-which-loss-and-activation-functions-should-i-use-ac02f1c56aa8\n",
    "#https://stackoverflow.com/questions/43855162/rmse-rmsle-loss-function-in-keras\n",
    "\n",
    "def root_mean_squared_error(y_true, y_pred):\n",
    "        return K.sqrt(K.mean(K.square(y_pred - y_true))) \n",
    "\n",
    "#https://medium.com/analytics-vidhya/a-complete-guide-to-adam-and-rmsprop-optimizer-75f4502d83be\n",
    "#https://towardsdatascience.com/a-look-at-gradient-descent-and-rmsprop-optimizers-f77d483ef08b\n",
    "\n",
    "opt = tensorflow.keras.optimizers.Adam(learning_rate=0.001,decay=1e-8)\n",
    "model.compile(loss=root_mean_squared_error, optimizer=opt, metrics = tensorflow.keras.metrics.RootMeanSquaredError())\n",
    "\n",
    "model.fit(x=x_input, y=y_train, epochs=10, batch_size=128, validation_data=(x_validation,y_cv), callbacks=[checkpoint, earlystop, learning_rate_reduction])"
   ]
  },
  {
   "cell_type": "markdown",
   "metadata": {
    "id": "ySwYbiZEc7a6"
   },
   "source": [
    "Final Validation loss: 0.443"
   ]
  },
  {
   "cell_type": "code",
   "execution_count": null,
   "metadata": {
    "id": "y7_dPn7ugBBP"
   },
   "outputs": [],
   "source": []
  },
  {
   "cell_type": "markdown",
   "metadata": {
    "id": "Gffse2bRRx8Y"
   },
   "source": [
    "Model 3 -- Using all features but filtering Name & Description features with TF-IDF values."
   ]
  },
  {
   "cell_type": "code",
   "execution_count": null,
   "metadata": {
    "id": "PcFmfbsxRxnk"
   },
   "outputs": [],
   "source": [
    "from sklearn.feature_extraction.text import TfidfVectorizer\n",
    "\n",
    "vectorizer = TfidfVectorizer(min_df=1)\n",
    "X = vectorizer.fit_transform(X_train['combined'])\n",
    "idf = vectorizer.idf_\n",
    "idf_dict = dict(zip(vectorizer.get_feature_names_out(), idf))\n"
   ]
  },
  {
   "cell_type": "code",
   "execution_count": null,
   "metadata": {
    "id": "Y8G8wLLIL2hG"
   },
   "outputs": [],
   "source": [
    "idf_dict = dict(zip(vectorizer.get_feature_names_out(), idf))"
   ]
  },
  {
   "cell_type": "code",
   "execution_count": 3,
   "metadata": {
    "id": "OMcj3r0QRxhW"
   },
   "outputs": [],
   "source": [
    "#print({k: v for k, v in idf_dict.items() if v <= 12})"
   ]
  },
  {
   "cell_type": "code",
   "execution_count": null,
   "metadata": {
    "id": "BXvq71PfRxfF"
   },
   "outputs": [],
   "source": [
    "for i in list(idf_dict.keys()):\n",
    " if idf_dict[i]>12:\n",
    "  idf_dict.pop(i)\n"
   ]
  },
  {
   "cell_type": "code",
   "execution_count": null,
   "metadata": {
    "colab": {
     "base_uri": "https://localhost:8080/"
    },
    "id": "c1BAu-NNRxc5",
    "outputId": "b9857ea2-1918-4005-cc8a-c0aa499d2da5"
   },
   "outputs": [
    {
     "data": {
      "text/plain": [
       "20269"
      ]
     },
     "execution_count": 30,
     "metadata": {},
     "output_type": "execute_result"
    }
   ],
   "source": [
    "len(idf_dict.keys())"
   ]
  },
  {
   "cell_type": "code",
   "execution_count": null,
   "metadata": {
    "id": "P6ld8B6pRxan"
   },
   "outputs": [],
   "source": [
    "def filter_text(series):\n",
    " \n",
    "  new_essay = []\n",
    " \n",
    "  for text in series:\n",
    "  #print(text)\n",
    "    words = text.split(' ')\n",
    "    for word in words:\n",
    "      if idf_dict.get(word,-1)!=-1:\n",
    "        words.remove(word)\n",
    "    new_essay.append(' '.join(words))\n",
    "\n",
    "  return new_essay\n",
    "\n",
    "X_train_filtered_combined = filter_text(X_train['combined'])\n",
    "X_test_filtered_combined = filter_text(X_cv['combined'])"
   ]
  },
  {
   "cell_type": "code",
   "execution_count": null,
   "metadata": {
    "colab": {
     "base_uri": "https://localhost:8080/",
     "height": 352
    },
    "id": "P7oWwOnaRxYh",
    "outputId": "74301d48-0a6f-458d-96e8-963db7b7048e"
   },
   "outputs": [
    {
     "data": {
      "text/plain": [
       "(array([7.90794e+05, 1.58982e+05, 4.98700e+04, 2.10510e+04, 1.33530e+04,\n",
       "        3.23000e+03, 4.47000e+02, 3.80000e+01, 7.00000e+00, 2.00000e+00]),\n",
       " array([  1. ,  13.5,  26. ,  38.5,  51. ,  63.5,  76. ,  88.5, 101. ,\n",
       "        113.5, 126. ]),\n",
       " <a list of 10 Patch objects>)"
      ]
     },
     "execution_count": 32,
     "metadata": {},
     "output_type": "execute_result"
    },
    {
     "data": {
      "image/png": "[encoded data removed]",
      "text/plain": [
       "<Figure size 432x288 with 1 Axes>"
      ]
     },
     "metadata": {},
     "output_type": "display_data"
    }
   ],
   "source": [
    "a = []\n",
    "for i in X_train_filtered_combined:\n",
    "  a.append(len(i.split(\" \")))\n",
    "\n",
    "import matplotlib.pyplot as plt\n",
    "plt.hist(a)"
   ]
  },
  {
   "cell_type": "code",
   "execution_count": null,
   "metadata": {
    "id": "sTZ0dvE_RxWO"
   },
   "outputs": [],
   "source": [
    "pad_length_combined = 30\n",
    "\n",
    "X_train_padded_essay, X_test_padded_essay, num_words_combined = tokenize_and_pad(X_train['combined'], X_cv['combined'], maxlen=pad_length_combined)"
   ]
  },
  {
   "cell_type": "code",
   "execution_count": null,
   "metadata": {
    "colab": {
     "base_uri": "https://localhost:8080/"
    },
    "id": "CYdhxfWrgA9L",
    "outputId": "e0575061-f172-41d5-ccfc-1c4c24440a8b"
   },
   "outputs": [
    {
     "name": "stdout",
     "output_type": "stream",
     "text": [
      "Embedding layer: (None, 30, 50)\n",
      "LSTM layer: (None, 30, 50)\n",
      "flatten_0 (None, 1500)\n",
      "Embedding layer: (None, 4, 50)\n",
      "LSTM layer: (None, 4, 50)\n",
      "flatten_b (None, 200)\n",
      "Categories Embedding layer: (None, 9, 50)\n",
      "LSTM layer: (None, 9, 50)\n",
      "flatten_c (None, 450)\n",
      "Model: \"model_4\"\n",
      "__________________________________________________________________________________________________\n",
      " Layer (type)                   Output Shape         Param #     Connected to                     \n",
      "==================================================================================================\n",
      " input_1 (InputLayer)           [(None, 30)]         0           []                               \n",
      "                                                                                                  \n",
      " input_2 (InputLayer)           [(None, 4)]          0           []                               \n",
      "                                                                                                  \n",
      " input_3 (InputLayer)           [(None, 9)]          0           []                               \n",
      "                                                                                                  \n",
      " Combined (Embedding)           (None, 30, 50)       12272750    ['input_1[0][0]']                \n",
      "                                                                                                  \n",
      " Brand (Embedding)              (None, 4, 50)        238900      ['input_2[0][0]']                \n",
      "                                                                                                  \n",
      " Categories (Embedding)         (None, 9, 50)        50450       ['input_3[0][0]']                \n",
      "                                                                                                  \n",
      " lstm (LSTM)                    (None, 30, 50)       20200       ['Combined[0][0]']               \n",
      "                                                                                                  \n",
      " lstm_1 (LSTM)                  (None, 4, 50)        20200       ['Brand[0][0]']                  \n",
      "                                                                                                  \n",
      " lstm_2 (LSTM)                  (None, 9, 50)        20200       ['Categories[0][0]']             \n",
      "                                                                                                  \n",
      " input_4 (InputLayer)           [(None, 2)]          0           []                               \n",
      "                                                                                                  \n",
      " flatten (Flatten)              (None, 1500)         0           ['lstm[0][0]']                   \n",
      "                                                                                                  \n",
      " flatten_1 (Flatten)            (None, 200)          0           ['lstm_1[0][0]']                 \n",
      "                                                                                                  \n",
      " flatten_2 (Flatten)            (None, 450)          0           ['lstm_2[0][0]']                 \n",
      "                                                                                                  \n",
      " Dense_Numerical (Dense)        (None, 50)           150         ['input_4[0][0]']                \n",
      "                                                                                                  \n",
      " concatenate (Concatenate)      (None, 2200)         0           ['flatten[0][0]',                \n",
      "                                                                  'flatten_1[0][0]',              \n",
      "                                                                  'flatten_2[0][0]',              \n",
      "                                                                  'Dense_Numerical[0][0]']        \n",
      "                                                                                                  \n",
      " batch_normalization (BatchNorm  (None, 2200)        8800        ['concatenate[0][0]']            \n",
      " alization)                                                                                       \n",
      "                                                                                                  \n",
      " dense (Dense)                  (None, 500)          1100500     ['batch_normalization[0][0]']    \n",
      "                                                                                                  \n",
      " dropout (Dropout)              (None, 500)          0           ['dense[0][0]']                  \n",
      "                                                                                                  \n",
      " dense_1 (Dense)                (None, 100)          50100       ['dropout[0][0]']                \n",
      "                                                                                                  \n",
      " dropout_1 (Dropout)            (None, 100)          0           ['dense_1[0][0]']                \n",
      "                                                                                                  \n",
      " batch_normalization_1 (BatchNo  (None, 100)         400         ['dropout_1[0][0]']              \n",
      " rmalization)                                                                                     \n",
      "                                                                                                  \n",
      " dense_2 (Dense)                (None, 10)           1010        ['batch_normalization_1[0][0]']  \n",
      "                                                                                                  \n",
      " dense_3 (Dense)                (None, 1)            11          ['dense_2[0][0]']                \n",
      "                                                                                                  \n",
      "==================================================================================================\n",
      "Total params: 13,783,671\n",
      "Trainable params: 13,779,071\n",
      "Non-trainable params: 4,600\n",
      "__________________________________________________________________________________________________\n"
     ]
    }
   ],
   "source": [
    "tensorflow.keras.backend.clear_session()\n",
    "\n",
    "#combined\n",
    "embedding_features = 50\n",
    "\n",
    "#reason for adding 2 in num_words: 1 for OOV words, 1 because it takes range so range(6) doesn't include 6.. so we add 1\n",
    "\n",
    "input_combined = Input(shape=(pad_length_combined,))\n",
    "Combined_Embedding_layer=Embedding(num_words_combined+2, embedding_features, input_length=pad_length_combined, name = 'Combined')(input_combined)\n",
    "print('Embedding layer:', Combined_Embedding_layer.shape)\n",
    "lstm_layer = LSTM(50, activation='relu', return_sequences=True, input_shape=(pad_length_combined, embedding_features))(Combined_Embedding_layer)\n",
    "print('LSTM layer:', lstm_layer.shape)\n",
    "flatten_0 = Flatten()(lstm_layer)\n",
    "print(\"flatten_0\", flatten_0.get_shape())\n",
    "\n",
    "#brand\n",
    "input_brand = Input(shape=(pad_length_brand,))\n",
    "Brand_Embedding_layer=Embedding(num_words_brand+2, embedding_features, input_length=pad_length_brand, name = 'Brand')(input_brand)\n",
    "print('Embedding layer:', Brand_Embedding_layer.shape)\n",
    "lstm_layer_b = LSTM(50, activation='relu', return_sequences=True, input_shape=(pad_length_brand, embedding_features))(Brand_Embedding_layer)\n",
    "print('LSTM layer:', lstm_layer_b.shape)\n",
    "flatten_b = Flatten()(lstm_layer_b)\n",
    "print(\"flatten_b\", flatten_b.get_shape())\n",
    "\n",
    "#categories\n",
    "input_categories = Input(shape=(pad_length_category,))\n",
    "Categories_Embedding_layer=Embedding(num_words_category+2, embedding_features, input_length=pad_length_category, name = 'Categories')(input_categories)\n",
    "print('Categories Embedding layer:', Categories_Embedding_layer.shape)\n",
    "lstm_layer_c = LSTM(50, activation='relu', return_sequences=True, input_shape=(pad_length_category, embedding_features))(Categories_Embedding_layer)\n",
    "print('LSTM layer:', lstm_layer_c.shape)\n",
    "flatten_c = Flatten()(lstm_layer_c)\n",
    "print(\"flatten_c\", flatten_c.get_shape())\n",
    "\n",
    "#numerical features\n",
    "input_numerical = Input(shape=(2,))\n",
    "Dense_6 = Dense(50,activation='relu', name = 'Dense_Numerical')(input_numerical) #try activation relu\n",
    "\n",
    "#concatenate\n",
    "merged = Concatenate(axis=-1)([flatten_0, flatten_b, flatten_c, Dense_6])\n",
    "\n",
    "x = BatchNormalization()(merged)\n",
    "\n",
    "Dense2 = Dense(500, activation='relu')(x) #(merged)\n",
    "dropout_1 = Dropout(0.4)(Dense2)\n",
    "Dense3 = Dense(100,activation='relu')(dropout_1)\n",
    "dropout_2 = Dropout(0.2)(Dense3)\n",
    "x = BatchNormalization()(dropout_2)\n",
    "\n",
    "x = Dense(10,activation='relu')(x) #(flatten_0)\n",
    "output = Dense(1,activation='relu')(x) #(flatten_0)\n",
    "\n",
    "\n",
    "\n",
    "x = Model(inputs=input_combined, outputs=flatten_0)\n",
    "y = Model(inputs=input_brand, outputs=flatten_b)\n",
    "z = Model(inputs=input_categories, outputs=flatten_c)\n",
    "w = Model(inputs=input_numerical, outputs=Dense_6)\n",
    "\n",
    "\n",
    "model = Model(inputs=[x.input, y.input, z.input, w.input], outputs=output)\n",
    "model.summary()"
   ]
  },
  {
   "cell_type": "code",
   "execution_count": null,
   "metadata": {
    "colab": {
     "base_uri": "https://localhost:8080/"
    },
    "id": "pSMIwajRULhM",
    "outputId": "c1a79023-49bd-4ee1-b356-6cfa3d3494a7"
   },
   "outputs": [
    {
     "name": "stdout",
     "output_type": "stream",
     "text": [
      "Epoch 1/10\n",
      "8108/8108 [==============================] - ETA: 0s - loss: 0.5325 - root_mean_squared_error: 0.5516\n",
      "Epoch 1: val_loss improved from inf to 0.47487, saving model to /content/gdrive/My Drive/Mercari/best_model_3_tdidf.h5\n",
      "8108/8108 [==============================] - 1734s 213ms/step - loss: 0.5325 - root_mean_squared_error: 0.5516 - val_loss: 0.4749 - val_root_mean_squared_error: 0.4771 - lr: 0.0010\n",
      "Epoch 2/10\n",
      "8108/8108 [==============================] - ETA: 0s - loss: 0.4649 - root_mean_squared_error: 0.4672\n",
      "Epoch 2: val_loss improved from 0.47487 to 0.45886, saving model to /content/gdrive/My Drive/Mercari/best_model_3_tdidf.h5\n",
      "8108/8108 [==============================] - 1723s 213ms/step - loss: 0.4649 - root_mean_squared_error: 0.4672 - val_loss: 0.4589 - val_root_mean_squared_error: 0.4611 - lr: 0.0010\n",
      "Epoch 3/10\n",
      "8108/8108 [==============================] - ETA: 0s - loss: 0.4359 - root_mean_squared_error: 0.4381\n",
      "Epoch 3: val_loss improved from 0.45886 to 0.45585, saving model to /content/gdrive/My Drive/Mercari/best_model_3_tdidf.h5\n",
      "8108/8108 [==============================] - 1717s 212ms/step - loss: 0.4359 - root_mean_squared_error: 0.4381 - val_loss: 0.4559 - val_root_mean_squared_error: 0.4581 - lr: 0.0010\n",
      "Epoch 4/10\n",
      "8108/8108 [==============================] - ETA: 0s - loss: 0.4128 - root_mean_squared_error: 0.4149\n",
      "Epoch 4: val_loss improved from 0.45585 to 0.45263, saving model to /content/gdrive/My Drive/Mercari/best_model_3_tdidf.h5\n",
      "8108/8108 [==============================] - 1703s 210ms/step - loss: 0.4128 - root_mean_squared_error: 0.4149 - val_loss: 0.4526 - val_root_mean_squared_error: 0.4549 - lr: 0.0010\n",
      "Epoch 5/10\n",
      "8108/8108 [==============================] - ETA: 0s - loss: 0.3945 - root_mean_squared_error: 0.3967\n",
      "Epoch 5: val_loss did not improve from 0.45263\n",
      "8108/8108 [==============================] - 1715s 212ms/step - loss: 0.3945 - root_mean_squared_error: 0.3967 - val_loss: 0.4572 - val_root_mean_squared_error: 0.4595 - lr: 0.0010\n",
      "Epoch 6/10\n",
      "8108/8108 [==============================] - ETA: 0s - loss: 0.3800 - root_mean_squared_error: 0.3821\n",
      "Epoch 6: val_loss did not improve from 0.45263\n",
      "\n",
      "Epoch 6: ReduceLROnPlateau reducing learning rate to 0.0005000000237487257.\n",
      "8108/8108 [==============================] - 1757s 217ms/step - loss: 0.3800 - root_mean_squared_error: 0.3821 - val_loss: 0.4579 - val_root_mean_squared_error: 0.4602 - lr: 0.0010\n",
      "Epoch 7/10\n",
      "8108/8108 [==============================] - ETA: 0s - loss: 0.3574 - root_mean_squared_error: 0.3594\n",
      "Epoch 7: val_loss did not improve from 0.45263\n",
      "8108/8108 [==============================] - 1740s 215ms/step - loss: 0.3574 - root_mean_squared_error: 0.3594 - val_loss: 0.4554 - val_root_mean_squared_error: 0.4577 - lr: 5.0000e-04\n",
      "Epoch 7: early stopping\n"
     ]
    },
    {
     "data": {
      "text/plain": [
       "<keras.callbacks.History at 0x7fe00cc56b20>"
      ]
     },
     "execution_count": 35,
     "metadata": {},
     "output_type": "execute_result"
    }
   ],
   "source": [
    "x_input = [X_train_padded_essay, X_train_padded_brand, X_train_padded_category, x_train_num_scaled]\n",
    "x_validation = [X_test_padded_essay, X_test_padded_brand, X_test_padded_category, x_test_num_scaled]\n",
    "\n",
    "dir_path = '/content/gdrive/My Drive/Mercari/'\n",
    "\n",
    "filepath= dir_path + \"best_model_3_tdidf.h5\"\n",
    "checkpoint = ModelCheckpoint(filepath=filepath, monitor='val_loss', verbose=1, save_best_only=True, mode='auto')\n",
    "earlystop = EarlyStopping(monitor='val_loss', min_delta=0.0001,patience=3, verbose=1)\n",
    "learning_rate_reduction = ReduceLROnPlateau(monitor='val_loss', patience=2, verbose=1, factor=0.5, min_lr=0.0001)\n",
    "\n",
    "#https://towardsdatascience.com/deep-learning-which-loss-and-activation-functions-should-i-use-ac02f1c56aa8\n",
    "#https://stackoverflow.com/questions/43855162/rmse-rmsle-loss-function-in-keras\n",
    "\n",
    "def root_mean_squared_error(y_true, y_pred):\n",
    "        return K.sqrt(K.mean(K.square(y_pred - y_true))) \n",
    "\n",
    "#https://medium.com/analytics-vidhya/a-complete-guide-to-adam-and-rmsprop-optimizer-75f4502d83be\n",
    "#https://towardsdatascience.com/a-look-at-gradient-descent-and-rmsprop-optimizers-f77d483ef08b\n",
    "\n",
    "opt = tensorflow.keras.optimizers.Adam(learning_rate=0.001,decay=1e-8)\n",
    "model.compile(loss=root_mean_squared_error, optimizer=opt, metrics = tensorflow.keras.metrics.RootMeanSquaredError())\n",
    "\n",
    "model.fit(x=x_input, y=y_train, epochs=10, batch_size=128, validation_data=(x_validation,y_cv), callbacks=[checkpoint, earlystop, learning_rate_reduction])"
   ]
  },
  {
   "cell_type": "code",
   "execution_count": null,
   "metadata": {
    "id": "ZddYuuHSULb4"
   },
   "outputs": [],
   "source": []
  },
  {
   "cell_type": "markdown",
   "metadata": {
    "id": "dwIkve-9aC5R"
   },
   "source": [
    "Model-4: Trying with Embedding featrues 100 instead of 50 with all features."
   ]
  },
  {
   "cell_type": "code",
   "execution_count": null,
   "metadata": {
    "colab": {
     "base_uri": "https://localhost:8080/"
    },
    "id": "TtJ7tfFmaCPy",
    "outputId": "ff1d985f-6cf9-43df-bae5-ff3c96c000bd"
   },
   "outputs": [
    {
     "name": "stdout",
     "output_type": "stream",
     "text": [
      "Embedding layer: (None, 50, 100)\n",
      "LSTM layer: (None, 50, 50)\n",
      "flatten_0 (None, 2500)\n",
      "Embedding layer: (None, 4, 100)\n",
      "LSTM layer: (None, 4, 50)\n",
      "flatten_b (None, 200)\n",
      "Categories Embedding layer: (None, 9, 100)\n",
      "LSTM layer: (None, 9, 50)\n",
      "flatten_c (None, 450)\n",
      "Model: \"model_4\"\n",
      "__________________________________________________________________________________________________\n",
      " Layer (type)                   Output Shape         Param #     Connected to                     \n",
      "==================================================================================================\n",
      " input_1 (InputLayer)           [(None, 50)]         0           []                               \n",
      "                                                                                                  \n",
      " input_2 (InputLayer)           [(None, 4)]          0           []                               \n",
      "                                                                                                  \n",
      " input_3 (InputLayer)           [(None, 9)]          0           []                               \n",
      "                                                                                                  \n",
      " Combined (Embedding)           (None, 50, 100)      24545500    ['input_1[0][0]']                \n",
      "                                                                                                  \n",
      " Brand (Embedding)              (None, 4, 100)       477800      ['input_2[0][0]']                \n",
      "                                                                                                  \n",
      " Categories (Embedding)         (None, 9, 100)       100900      ['input_3[0][0]']                \n",
      "                                                                                                  \n",
      " lstm (LSTM)                    (None, 50, 50)       30200       ['Combined[0][0]']               \n",
      "                                                                                                  \n",
      " lstm_1 (LSTM)                  (None, 4, 50)        30200       ['Brand[0][0]']                  \n",
      "                                                                                                  \n",
      " lstm_2 (LSTM)                  (None, 9, 50)        30200       ['Categories[0][0]']             \n",
      "                                                                                                  \n",
      " input_4 (InputLayer)           [(None, 2)]          0           []                               \n",
      "                                                                                                  \n",
      " flatten (Flatten)              (None, 2500)         0           ['lstm[0][0]']                   \n",
      "                                                                                                  \n",
      " flatten_1 (Flatten)            (None, 200)          0           ['lstm_1[0][0]']                 \n",
      "                                                                                                  \n",
      " flatten_2 (Flatten)            (None, 450)          0           ['lstm_2[0][0]']                 \n",
      "                                                                                                  \n",
      " Dense_Numerical (Dense)        (None, 50)           150         ['input_4[0][0]']                \n",
      "                                                                                                  \n",
      " concatenate (Concatenate)      (None, 3200)         0           ['flatten[0][0]',                \n",
      "                                                                  'flatten_1[0][0]',              \n",
      "                                                                  'flatten_2[0][0]',              \n",
      "                                                                  'Dense_Numerical[0][0]']        \n",
      "                                                                                                  \n",
      " batch_normalization (BatchNorm  (None, 3200)        12800       ['concatenate[0][0]']            \n",
      " alization)                                                                                       \n",
      "                                                                                                  \n",
      " dense (Dense)                  (None, 500)          1600500     ['batch_normalization[0][0]']    \n",
      "                                                                                                  \n",
      " dropout (Dropout)              (None, 500)          0           ['dense[0][0]']                  \n",
      "                                                                                                  \n",
      " dense_1 (Dense)                (None, 100)          50100       ['dropout[0][0]']                \n",
      "                                                                                                  \n",
      " dropout_1 (Dropout)            (None, 100)          0           ['dense_1[0][0]']                \n",
      "                                                                                                  \n",
      " batch_normalization_1 (BatchNo  (None, 100)         400         ['dropout_1[0][0]']              \n",
      " rmalization)                                                                                     \n",
      "                                                                                                  \n",
      " dense_2 (Dense)                (None, 10)           1010        ['batch_normalization_1[0][0]']  \n",
      "                                                                                                  \n",
      " dense_3 (Dense)                (None, 1)            11          ['dense_2[0][0]']                \n",
      "                                                                                                  \n",
      "==================================================================================================\n",
      "Total params: 26,879,771\n",
      "Trainable params: 26,873,171\n",
      "Non-trainable params: 6,600\n",
      "__________________________________________________________________________________________________\n"
     ]
    }
   ],
   "source": [
    "tensorflow.keras.backend.clear_session()\n",
    "\n",
    "#combined\n",
    "embedding_features = 100\n",
    "\n",
    "#reason for adding 2 in num_words: 1 for OOV words, 1 because it takes range so range(6) doesn't include 6.. so we add 1\n",
    "\n",
    "input_combined = Input(shape=(pad_length_combined,))\n",
    "Combined_Embedding_layer=Embedding(num_words_combined+2, embedding_features, input_length=pad_length_combined, name = 'Combined')(input_combined)\n",
    "print('Embedding layer:', Combined_Embedding_layer.shape)\n",
    "lstm_layer = LSTM(50, activation='relu', return_sequences=True, input_shape=(pad_length_combined, embedding_features))(Combined_Embedding_layer)\n",
    "print('LSTM layer:', lstm_layer.shape)\n",
    "flatten_0 = Flatten()(lstm_layer)\n",
    "print(\"flatten_0\", flatten_0.get_shape())\n",
    "\n",
    "#brand\n",
    "input_brand = Input(shape=(pad_length_brand,))\n",
    "Brand_Embedding_layer=Embedding(num_words_brand+2, embedding_features, input_length=pad_length_brand, name = 'Brand')(input_brand)\n",
    "print('Embedding layer:', Brand_Embedding_layer.shape)\n",
    "lstm_layer_b = LSTM(50, activation='relu', return_sequences=True, input_shape=(pad_length_brand, embedding_features))(Brand_Embedding_layer)\n",
    "print('LSTM layer:', lstm_layer_b.shape)\n",
    "flatten_b = Flatten()(lstm_layer_b)\n",
    "print(\"flatten_b\", flatten_b.get_shape())\n",
    "\n",
    "#categories\n",
    "input_categories = Input(shape=(pad_length_category,))\n",
    "Categories_Embedding_layer=Embedding(num_words_category+2, embedding_features, input_length=pad_length_category, name = 'Categories')(input_categories)\n",
    "print('Categories Embedding layer:', Categories_Embedding_layer.shape)\n",
    "lstm_layer_c = LSTM(50, activation='relu', return_sequences=True, input_shape=(pad_length_category, embedding_features))(Categories_Embedding_layer)\n",
    "print('LSTM layer:', lstm_layer_c.shape)\n",
    "flatten_c = Flatten()(lstm_layer_c)\n",
    "print(\"flatten_c\", flatten_c.get_shape())\n",
    "\n",
    "#numerical features\n",
    "input_numerical = Input(shape=(2,))\n",
    "Dense_6 = Dense(50,activation='relu', name = 'Dense_Numerical')(input_numerical) #try activation relu\n",
    "\n",
    "#concatenate\n",
    "merged = Concatenate(axis=-1)([flatten_0, flatten_b, flatten_c, Dense_6])\n",
    "\n",
    "x = BatchNormalization()(merged)\n",
    "\n",
    "Dense2 = Dense(500, activation='relu')(x) #(merged)\n",
    "dropout_1 = Dropout(0.4)(Dense2)\n",
    "Dense3 = Dense(100,activation='relu')(dropout_1)\n",
    "dropout_2 = Dropout(0.2)(Dense3)\n",
    "x = BatchNormalization()(dropout_2)\n",
    "\n",
    "x = Dense(10,activation='relu')(x) #(flatten_0)\n",
    "output = Dense(1,activation='relu')(x) #(flatten_0)\n",
    "\n",
    "\n",
    "\n",
    "x = Model(inputs=input_combined, outputs=flatten_0)\n",
    "y = Model(inputs=input_brand, outputs=flatten_b)\n",
    "z = Model(inputs=input_categories, outputs=flatten_c)\n",
    "w = Model(inputs=input_numerical, outputs=Dense_6)\n",
    "\n",
    "\n",
    "model = Model(inputs=[x.input, y.input, z.input, w.input], outputs=output)\n",
    "model.summary()"
   ]
  },
  {
   "cell_type": "code",
   "execution_count": null,
   "metadata": {
    "colab": {
     "background_save": true,
     "base_uri": "https://localhost:8080/"
    },
    "id": "PGLHRobeaCIk",
    "outputId": "d22f0c68-cdd6-419a-9117-2dcbd2ebba9f"
   },
   "outputs": [
    {
     "name": "stdout",
     "output_type": "stream",
     "text": [
      "Epoch 1/10\n",
      "8108/8108 [==============================] - ETA: 0s - loss: 0.5234 - root_mean_squared_error: 0.5354\n",
      "Epoch 1: val_loss improved from inf to 0.46217, saving model to /content/gdrive/My Drive/Mercari/best_model4.h5\n",
      "8108/8108 [==============================] - 3183s 392ms/step - loss: 0.5234 - root_mean_squared_error: 0.5354 - val_loss: 0.4622 - val_root_mean_squared_error: 0.4643 - lr: 0.0010\n",
      "Epoch 2/10\n",
      "8108/8108 [==============================] - ETA: 0s - loss: 0.4528 - root_mean_squared_error: 0.4550\n",
      "Epoch 2: val_loss improved from 0.46217 to 0.44971, saving model to /content/gdrive/My Drive/Mercari/best_model4.h5\n",
      "8108/8108 [==============================] - 3298s 407ms/step - loss: 0.4528 - root_mean_squared_error: 0.4550 - val_loss: 0.4497 - val_root_mean_squared_error: 0.4518 - lr: 0.0010\n",
      "Epoch 3/10\n",
      "8108/8108 [==============================] - ETA: 0s - loss: 0.4206 - root_mean_squared_error: 0.4227\n",
      "Epoch 3: val_loss improved from 0.44971 to 0.44488, saving model to /content/gdrive/My Drive/Mercari/best_model4.h5\n",
      "8108/8108 [==============================] - 3304s 408ms/step - loss: 0.4206 - root_mean_squared_error: 0.4227 - val_loss: 0.4449 - val_root_mean_squared_error: 0.4470 - lr: 0.0010\n",
      "Epoch 4/10\n",
      "8108/8108 [==============================] - ETA: 0s - loss: 0.3966 - root_mean_squared_error: 0.3987\n",
      "Epoch 4: val_loss did not improve from 0.44488\n",
      "8108/8108 [==============================] - 3195s 394ms/step - loss: 0.3966 - root_mean_squared_error: 0.3987 - val_loss: 0.4569 - val_root_mean_squared_error: 0.4592 - lr: 0.0010\n",
      "Epoch 5/10\n",
      "8108/8108 [==============================] - ETA: 0s - loss: 0.3778 - root_mean_squared_error: 0.3799\n",
      "Epoch 5: val_loss did not improve from 0.44488\n",
      "\n",
      "Epoch 5: ReduceLROnPlateau reducing learning rate to 0.0005000000237487257.\n",
      "8108/8108 [==============================] - 3163s 390ms/step - loss: 0.3778 - root_mean_squared_error: 0.3799 - val_loss: 0.4450 - val_root_mean_squared_error: 0.4472 - lr: 0.0010\n",
      "Epoch 6/10\n",
      "8108/8108 [==============================] - ETA: 0s - loss: 0.3509 - root_mean_squared_error: 0.3530\n",
      "Epoch 6: val_loss improved from 0.44488 to 0.44174, saving model to /content/gdrive/My Drive/Mercari/best_model4.h5\n",
      "8108/8108 [==============================] - 3161s 390ms/step - loss: 0.3509 - root_mean_squared_error: 0.3530 - val_loss: 0.4417 - val_root_mean_squared_error: 0.4440 - lr: 5.0000e-04\n",
      "Epoch 7/10\n",
      "8108/8108 [==============================] - ETA: 0s - loss: 0.3383 - root_mean_squared_error: 0.3405\n",
      "Epoch 7: val_loss did not improve from 0.44174\n",
      "8108/8108 [==============================] - 3164s 390ms/step - loss: 0.3383 - root_mean_squared_error: 0.3405 - val_loss: 0.4444 - val_root_mean_squared_error: 0.4467 - lr: 5.0000e-04\n",
      "Epoch 8/10\n",
      "8108/8108 [==============================] - ETA: 0s - loss: 0.3291 - root_mean_squared_error: 0.3312\n",
      "Epoch 8: val_loss did not improve from 0.44174\n",
      "\n",
      "Epoch 8: ReduceLROnPlateau reducing learning rate to 0.0002500000118743628.\n",
      "8108/8108 [==============================] - 3143s 388ms/step - loss: 0.3291 - root_mean_squared_error: 0.3312 - val_loss: 0.4496 - val_root_mean_squared_error: 0.4519 - lr: 5.0000e-04\n",
      "Epoch 9/10\n",
      "8108/8108 [==============================] - ETA: 0s - loss: 0.3146 - root_mean_squared_error: 0.3167\n",
      "Epoch 9: val_loss did not improve from 0.44174\n",
      "8108/8108 [==============================] - 3123s 385ms/step - loss: 0.3146 - root_mean_squared_error: 0.3167 - val_loss: 0.4497 - val_root_mean_squared_error: 0.4520 - lr: 2.5000e-04\n",
      "Epoch 9: early stopping\n"
     ]
    },
    {
     "data": {
      "text/plain": [
       "<keras.callbacks.History at 0x7ffa9c5ae280>"
      ]
     },
     "execution_count": 16,
     "metadata": {},
     "output_type": "execute_result"
    }
   ],
   "source": [
    "\n",
    "x_input = [X_train_padded_essay, X_train_padded_brand, X_train_padded_category, x_train_num_scaled]\n",
    "x_validation = [X_test_padded_essay, X_test_padded_brand, X_test_padded_category, x_test_num_scaled]\n",
    "\n",
    "dir_path = '/content/gdrive/My Drive/Mercari/'\n",
    "\n",
    "filepath= dir_path + \"best_model4.h5\"\n",
    "checkpoint = ModelCheckpoint(filepath=filepath, monitor='val_loss', verbose=1, save_best_only=True, mode='auto')\n",
    "earlystop = EarlyStopping(monitor='val_loss', min_delta=0.001,patience=3, verbose=1)\n",
    "learning_rate_reduction = ReduceLROnPlateau(monitor='val_loss', patience=2, verbose=1, factor=0.5, min_lr=0.0001)\n",
    "\n",
    "#https://towardsdatascience.com/deep-learning-which-loss-and-activation-functions-should-i-use-ac02f1c56aa8\n",
    "#https://stackoverflow.com/questions/43855162/rmse-rmsle-loss-function-in-keras\n",
    "\n",
    "def root_mean_squared_error(y_true, y_pred):\n",
    "        return K.sqrt(K.mean(K.square(y_pred - y_true))) \n",
    "\n",
    "#https://medium.com/analytics-vidhya/a-complete-guide-to-adam-and-rmsprop-optimizer-75f4502d83be\n",
    "#https://towardsdatascience.com/a-look-at-gradient-descent-and-rmsprop-optimizers-f77d483ef08b\n",
    "\n",
    "opt = tensorflow.keras.optimizers.Adam(learning_rate=0.001,decay=1e-8)\n",
    "model.compile(loss=root_mean_squared_error, optimizer=opt, metrics = tensorflow.keras.metrics.RootMeanSquaredError())\n",
    "\n",
    "model.fit(x=x_input, y=y_train, epochs=10, batch_size=128, validation_data=(x_validation,y_cv), callbacks=[checkpoint, earlystop, learning_rate_reduction])"
   ]
  },
  {
   "cell_type": "code",
   "execution_count": null,
   "metadata": {
    "id": "JP9pSWS84T8p"
   },
   "outputs": [],
   "source": []
  },
  {
   "cell_type": "code",
   "execution_count": 2,
   "metadata": {
    "colab": {
     "base_uri": "https://localhost:8080/"
    },
    "id": "mKg2ojDd4T5H",
    "outputId": "e24c28bb-77f2-4e2c-cc1a-5fa6486a99a9"
   },
   "outputs": [
    {
     "name": "stdout",
     "output_type": "stream",
     "text": [
      "+---------------------------------------------------------------------------------------------+---------+\n",
      "|                                            Model                                            | CV Loss |\n",
      "+---------------------------------------------------------------------------------------------+---------+\n",
      "|  Model -1 : with only Brand, Name & Description fields with Embedding vector of length 50.  |   0.5   |\n",
      "|              Model -2 : Using All features with Embedding vector of length 50.              |  0.443  |\n",
      "| Model -3 : Using all features but filtering Name & Description features with TF-IDF values. |  0.452  |\n",
      "|         Model-4: Trying with Embedding featrues 100 instead of 50 with all features.        |  0.441  |\n",
      "+---------------------------------------------------------------------------------------------+---------+\n"
     ]
    }
   ],
   "source": [
    "from prettytable import PrettyTable\n",
    "\n",
    "table = PrettyTable()\n",
    "table.field_names = [\"Model\", \"CV Loss\"]\n",
    "\n",
    "table.add_row(['Model -1 : with only Brand, Name & Description fields with Embedding vector of length 50.','0.5'])\n",
    "table.add_row(['Model -2 : Using All features with Embedding vector of length 50.','0.443'])\n",
    "table.add_row(['Model -3 : Using all features but filtering Name & Description features with TF-IDF values.','0.452'])\n",
    "table.add_row(['Model-4: Trying with Embedding featrues 100 instead of 50 with all features.','0.441'])\n",
    "\n",
    "print(table)"
   ]
  },
  {
   "cell_type": "code",
   "execution_count": null,
   "metadata": {
    "id": "_YZb4AG25Uqu"
   },
   "outputs": [],
   "source": []
  }
 ],
 "metadata": {
  "colab": {
   "provenance": []
  },
  "kernelspec": {
   "display_name": "Python 3 (ipykernel)",
   "language": "python",
   "name": "python3"
  },
  "language_info": {
   "codemirror_mode": {
    "name": "ipython",
    "version": 3
   },
   "file_extension": ".py",
   "mimetype": "text/x-python",
   "name": "python",
   "nbconvert_exporter": "python",
   "pygments_lexer": "ipython3",
   "version": "3.8.8"
  }
 },
 "nbformat": 4,
 "nbformat_minor": 1
}
