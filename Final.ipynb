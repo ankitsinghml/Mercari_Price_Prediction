{
 "cells": [
  {
   "cell_type": "code",
   "execution_count": 1,
   "id": "193405e6",
   "metadata": {},
   "outputs": [],
   "source": [
    "#declarations\n",
    "import pandas as pd\n",
    "import numpy as np\n",
    "import matplotlib.pyplot as plt\n",
    "import seaborn as sns\n",
    "import warnings\n",
    "import re\n",
    "import string\n",
    "from tqdm import tqdm\n",
    "from scipy import stats\n",
    "warnings.filterwarnings('ignore')\n",
    "from sklearn.model_selection import train_test_split\n",
    "from sklearn.preprocessing import StandardScaler\n",
    "import nltk\n",
    "from nltk.stem import PorterStemmer\n",
    "from nltk.corpus import stopwords\n",
    "import pickle\n",
    "from tensorflow.keras.preprocessing.text import Tokenizer\n",
    "from nltk.tokenize import word_tokenize\n",
    "from tensorflow.keras.preprocessing.sequence import pad_sequences\n",
    "import keras\n",
    "import tensorflow as tf\n",
    "\n",
    "dir_path_pkl = 'Processing_pickle_files\\\\'"
   ]
  },
  {
   "cell_type": "code",
   "execution_count": null,
   "id": "55d9a95e",
   "metadata": {},
   "outputs": [],
   "source": []
  },
  {
   "cell_type": "markdown",
   "id": "a2c445cb",
   "metadata": {},
   "source": [
    "# Filling Null values"
   ]
  },
  {
   "cell_type": "code",
   "execution_count": 9,
   "id": "af2cd711",
   "metadata": {},
   "outputs": [],
   "source": [
    "#Filling all missing data with some default values\n",
    "\n",
    "def fill_missing(df):\n",
    "    \n",
    "    df['item_description'].fillna('no description yet', inplace = True)\n",
    "    df['brand_name'].fillna('missing', inplace = True)\n",
    "    df['category_name'].fillna('missing/missing/missing', inplace = True)\n",
    "    df['name'].fillna('no name', inplace=True)\n",
    "    \n",
    "    return df"
   ]
  },
  {
   "cell_type": "markdown",
   "id": "ab332764",
   "metadata": {},
   "source": [
    "# Text Pre-processing"
   ]
  },
  {
   "cell_type": "code",
   "execution_count": 10,
   "id": "b757fd34",
   "metadata": {},
   "outputs": [],
   "source": [
    "def series_cleaning(series):\n",
    "    \n",
    "    series = series.apply(lambda x: x.lower())\n",
    "    series = series.apply(lambda x: re.sub(r'[^\\w\\s]','',x))\n",
    "    series = series.apply(lambda x: re.sub(' +',' ',x))\n",
    "    \n",
    "    return series\n",
    "\n",
    "def text_cleaning(Input_Text):\n",
    "    \n",
    "    #if not pd.isnull(Input_Text)\n",
    "    if len(Input_Text)>0:\n",
    "        #decontractions\n",
    "        Input_Text = Input_Text.lower()\n",
    "\n",
    "        Input_Text = re.sub(r\"won't\", \"will not\", Input_Text)\n",
    "        Input_Text = re.sub(r\"can\\'t\", \"can not\", Input_Text)\n",
    "        Input_Text = re.sub(r\"n\\'t\", \" not\", Input_Text)\n",
    "        Input_Text = re.sub(r\"\\'re\", \" are\", Input_Text)\n",
    "        Input_Text = re.sub(r\"\\'s\", \" is\", Input_Text)\n",
    "        Input_Text = re.sub(r\"\\'d\", \" would\", Input_Text)\n",
    "        Input_Text = re.sub(r\"\\'ll\", \" will\", Input_Text)\n",
    "        Input_Text = re.sub(r\"\\'t\", \" not\", Input_Text)\n",
    "        Input_Text = re.sub(r\"\\'ve\", \" have\", Input_Text)\n",
    "        Input_Text = re.sub(r\"\\'m\", \" am\", Input_Text)\n",
    "        Input_Text = re.sub(r'[^\\w\\s]','', Input_Text)\n",
    "        Input_Text = re.sub(' +',' ', Input_Text)\n",
    "\n",
    "    return Input_Text\n",
    "\n",
    "def stopword_cleaning(Input_Text):\n",
    "    \n",
    "    Input_Text = text_cleaning(Input_Text)\n",
    "    #stop word removal\n",
    "    sw_list = stopwords.words('english')\n",
    "    sw_list.remove('not')\n",
    "    sw_list.remove('no')\n",
    "    sw_list.remove('nor')\n",
    "    Input_Text =  \" \".join([i for i in Input_Text.split() if i not in sw_list])\n",
    "    \n",
    "    return Input_Text\n",
    "\n",
    "\n",
    "#combining everything in 1 function\n",
    "def text_preprocessing(series):\n",
    "    \n",
    "    series = series.apply(text_cleaning)\n",
    "    series = series.apply(stopword_cleaning)\n",
    "    series = series_cleaning(series)\n",
    "    \n",
    "    return series"
   ]
  },
  {
   "cell_type": "markdown",
   "id": "2eb426a6",
   "metadata": {},
   "source": [
    "# Filling Missing Brands"
   ]
  },
  {
   "cell_type": "markdown",
   "id": "fbaee3c6",
   "metadata": {},
   "source": [
    "Attempting to identify the Brand based on Name and Category"
   ]
  },
  {
   "cell_type": "code",
   "execution_count": 11,
   "id": "2fd96e0f",
   "metadata": {},
   "outputs": [],
   "source": [
    "def fill_missing_brands(df, train=False):\n",
    "    \n",
    "    if train==True:\n",
    "        #get the list of existing brand names\n",
    "        brands = list(df.brand_name[df.brand_name != 'missing'].unique())\n",
    "        \n",
    "        #we will create a dictionary to store the extracted brand name and the category they belong to\n",
    "        brand_dict = {}\n",
    "\n",
    "        for index, row in df[['brand_name', 'category_name']].iterrows():\n",
    "\n",
    "            if row.brand_name != 'missing':\n",
    "\n",
    "                if brand_dict.get(row.brand_name, -1) == -1:\n",
    "                    brand_dict[row.brand_name] = {}\n",
    "                    brand_dict[row.brand_name][str(row.category_name)] = 1\n",
    "                else:\n",
    "                    if brand_dict[row.brand_name].get(row.category_name, -1) == -1:\n",
    "                        brand_dict[row.brand_name][str(row.category_name)] = 1\n",
    "                    else: brand_dict[row.brand_name][str(row.category_name)] += 1\n",
    "         \n",
    "        f = open('brand_names_nested_dict', 'wb')\n",
    "        pickle.dump(brand_dict, f)\n",
    "        f.close()\n",
    "            \n",
    "    else:\n",
    "        file_to_read = open(\"brand_names_nested_dict\", \"rb\")\n",
    "        brand_dict = pickle.load(file_to_read)\n",
    "\n",
    "        count = 0 \n",
    "        \n",
    "        for index, row in df[['name','brand_name', 'category_name']].iterrows():\n",
    "\n",
    "            if row.brand_name == 'missing':\n",
    "                \n",
    "                for brand in brand_dict.keys():\n",
    "                    if brand in row['name']:\n",
    "                        if brand_dict[brand].get(row['category_name'],-1)!=-1:\n",
    "                            count+=1\n",
    "                            df.loc[index, ['brand_name']] = brand\n",
    "\n",
    "        print(\"missing Brands filled: \",count)\n",
    "        \n",
    "        return df"
   ]
  },
  {
   "cell_type": "markdown",
   "id": "14a4152a",
   "metadata": {},
   "source": [
    "# Feature Engineering"
   ]
  },
  {
   "cell_type": "code",
   "execution_count": 12,
   "id": "584a5cab",
   "metadata": {},
   "outputs": [],
   "source": [
    "def add_features(df):\n",
    "\n",
    "    df['description_length'] = df['item_description'].apply(lambda x: len(x))\n",
    "    print(\"Adding new features for length of Description\")\n",
    "    \n",
    "    #merging name and Description\n",
    "    df['combined'] = df['name']+ \" \" + df['item_description']\n",
    "    print(\"Combining Name and Item Description\")\n",
    "    \n",
    "    #splitting category feature\n",
    "    df['Category'] = df.category_name.str.split('/', expand=True)[0]\n",
    "    df['Sub_Category_1'] = df.category_name.str.split('/', expand=True)[1]\n",
    "    df['Sub_Category_2'] = df.category_name.str.split('/', expand=True)[2]\n",
    "    df = df.drop(['category_name','name', 'item_description'],axis=1)\n",
    "    print(\"Splitting Categories\")\n",
    "\n",
    "    return df\n"
   ]
  },
  {
   "cell_type": "markdown",
   "id": "304d60b6",
   "metadata": {},
   "source": [
    "# Stemming"
   ]
  },
  {
   "cell_type": "code",
   "execution_count": 13,
   "id": "16ab4e7e",
   "metadata": {},
   "outputs": [],
   "source": [
    "def stemming(series):\n",
    "    \n",
    "    stemmer = PorterStemmer()\n",
    "\n",
    "    for index, sentence in series.iteritems():\n",
    "        new_sentence = ''   \n",
    "        for word in sentence.split(\" \"):\n",
    "            word = stemmer.stem(word)\n",
    "            new_sentence += \" \"+ word\n",
    "        series.loc[index] = new_sentence.strip()\n",
    "        \n",
    "    return series"
   ]
  },
  {
   "cell_type": "markdown",
   "id": "0e2e4bc5",
   "metadata": {},
   "source": [
    "# Pre-processing Pipeline"
   ]
  },
  {
   "cell_type": "code",
   "execution_count": 14,
   "id": "fdc90474",
   "metadata": {},
   "outputs": [],
   "source": [
    "def preprocessing_pipeline(df, train=False):\n",
    "    \n",
    "    #filling Null values\n",
    "    df = fill_missing(df)\n",
    "    print(\"Null values filled\")\n",
    "    \n",
    "    #text preprocessing\n",
    "    df['name'] = text_preprocessing(df['name'])\n",
    "    print(\"Text processing done for Name\")\n",
    "    \n",
    "    df['brand_name'] = text_preprocessing(df['brand_name'])\n",
    "    print(\"Text processing done for Brand_Name\")\n",
    "    \n",
    "    df['item_description'] = text_preprocessing(df['item_description'])\n",
    "    print(\"Text processing done for Description\")\n",
    "    \n",
    "    print(\"Predicting brand based on Name and Category\")\n",
    "    if train==True:\n",
    "        #this will save a dictioanry in pickle file\n",
    "        fill_missing_brands(df, train=True)\n",
    "    df = fill_missing_brands(df, train=False)\n",
    "        \n",
    "    #add features\n",
    "    df = add_features(df)    \n",
    "        \n",
    "    #Performing Stemming on combined feature\n",
    "    print(\"Performing Stemming on Combined feature\")\n",
    "    df['combined'] = stemming(df['combined'])\n",
    "    \n",
    "    print(\"Preprocessing Done\", end='\\n\\n')\n",
    "    print(\"-\"*100, end='\\n\\n')\n",
    "    \n",
    "    return df"
   ]
  },
  {
   "cell_type": "markdown",
   "id": "a058a441",
   "metadata": {},
   "source": [
    "# Tokenizing and Padding"
   ]
  },
  {
   "cell_type": "code",
   "execution_count": 15,
   "id": "ace2a83b",
   "metadata": {},
   "outputs": [],
   "source": [
    "def tokenize_and_pad(corpus , maxlen, tokenizer=None):\n",
    "\n",
    "    if tokenizer == None:\n",
    "        tokenizer = Tokenizer(oov_token='#OOV#', num_words=None)  #num_words) #num_words=10000\n",
    "        tokenizer.fit_on_texts(corpus)\n",
    "    tokenized = tokenizer.texts_to_sequences(corpus)\n",
    "    padded = pad_sequences(tokenized, maxlen=maxlen, padding='pre', truncating='post') #truncating='pre'\n",
    "  \n",
    "    return padded, len(tokenizer.word_counts), tokenizer\n",
    "\n",
    "def standarization(corpus, scaler=None):\n",
    "    \n",
    "    if scaler == None:\n",
    "        scaler = StandardScaler()\n",
    "        scaler.fit(corpus)\n",
    "    \n",
    "    corpus = scaler.transform(corpus)\n",
    "    \n",
    "    return corpus, scaler"
   ]
  },
  {
   "cell_type": "markdown",
   "id": "dcede62e",
   "metadata": {},
   "source": [
    "# Filtering Words based on TF-idf score"
   ]
  },
  {
   "cell_type": "code",
   "execution_count": 16,
   "id": "9ff650c3",
   "metadata": {},
   "outputs": [],
   "source": [
    "def filter_text(series, idf_dict):\n",
    " \n",
    "    new_essay = []\n",
    " \n",
    "    for text in tqdm(series):\n",
    "  \n",
    "        words = text.split(' ')\n",
    "        for word in words:\n",
    "            if idf_dict.get(word,-1)!=-1:\n",
    "                words.remove(word)\n",
    "        new_essay.append(' '.join(words))\n",
    "\n",
    "    return new_essay"
   ]
  },
  {
   "cell_type": "markdown",
   "id": "95b8d304",
   "metadata": {},
   "source": [
    "# Function 1 "
   ]
  },
  {
   "cell_type": "code",
   "execution_count": 53,
   "id": "357bb96a",
   "metadata": {},
   "outputs": [],
   "source": [
    "def function_1(df):\n",
    "    \n",
    "    '''This function takes Raw input, performs all operation and Predicts the output'''\n",
    "    \n",
    "    #pre-processing \n",
    "    df = preprocessing_pipeline(df)\n",
    "    \n",
    "    #reading pickle files: all tokenizers,scalers and dictionary files required to process the input\n",
    "    with open(dir_path_pkl + 'tokenizer_brandname.pkl', 'rb') as f:\n",
    "        tokenizer_brandname = pickle.load(f)\n",
    "    \n",
    "    with open(dir_path_pkl + 'tokenizer_combined_col.pkl', 'rb') as f:\n",
    "        tokenizer_combined_col = pickle.load(f)\n",
    "    \n",
    "    with open(dir_path_pkl + 'tokenizer_categories.pkl', 'rb') as f:\n",
    "        tokenizer_categories = pickle.load(f)\n",
    "    \n",
    "    with open(dir_path_pkl + 'standard_scaler.pkl', 'rb') as f:\n",
    "        standard_scaler = pickle.load(f)\n",
    "    \n",
    "    with open(dir_path_pkl + 'tfidf_filtered_words', 'rb') as f:\n",
    "        tfidf_filtered_words = pickle.load(f)\n",
    "\n",
    "        \n",
    "    print(\"Filtering non-important words based on TF-idf value for Item Description field\")    \n",
    "    filtered_combined = filter_text(df['combined'], tfidf_filtered_words)\n",
    "    \n",
    "    #merging categories\n",
    "    df['Categories'] = df['Category'] + \" \" + df['Sub_Category_1'] + \" \" + df['Sub_Category_2']\n",
    "\n",
    "    print(\"Tokenizing input for brand_name\")\n",
    "    padded_brand, _, _ = tokenize_and_pad(df['brand_name'], maxlen=5, tokenizer=tokenizer_brandname)\n",
    "    print(\"padded_brand: \", padded_brand.shape)\n",
    "    \n",
    "    print(\"Tokenizing input for Item Description and Name\")\n",
    "    padded_essay, _, _ = tokenize_and_pad(filtered_combined, maxlen=60, tokenizer=tokenizer_combined_col)\n",
    "    print(\"padded_essay: \", padded_essay.shape)\n",
    "    \n",
    "    print(\"Tokenizing input for Categories\")\n",
    "    padded_category, _, _ = tokenize_and_pad(df['Categories'], maxlen=9, tokenizer=tokenizer_categories)\n",
    "    print(\"padded_category: \", padded_category.shape)\n",
    "    \n",
    "    print(\"Tokenizing input for Numerical features\")\n",
    "    num_scaled, _ = standarization(df[['item_condition_id', 'shipping', 'description_length']], scaler = standard_scaler)\n",
    "    print(\"num_scaled: \", num_scaled.shape, end='\\n\\n')\n",
    "\n",
    "    df_validation = [padded_essay, padded_brand, padded_category, num_scaled]\n",
    "\n",
    "    #reading model\n",
    "    model = tf.keras.models.load_model(dir_path_pkl + \"best_model_3b2.h5\")\n",
    "    \n",
    "    #predicting values\n",
    "    print(\"Predicting Values\")\n",
    "    predicted_prices = model.predict(df_validation)\n",
    "    #converting into expected prices\n",
    "    predicted_prices = np.exp(predicted_prices)\n",
    "    predicted_prices = np.squeeze(predicted_prices, axis=1)\n",
    "    \n",
    "    #output = pd.DataFrame({'test_id': df['test_id'], 'price': predicted_prices})\n",
    "    print(pd.DataFrame({'price':predicted_prices}))\n",
    "    \n",
    "    return pd.DataFrame({'price':predicted_prices})"
   ]
  },
  {
   "cell_type": "markdown",
   "id": "41d48155",
   "metadata": {},
   "source": [
    "# Function-2"
   ]
  },
  {
   "cell_type": "code",
   "execution_count": null,
   "id": "1972524e",
   "metadata": {},
   "outputs": [],
   "source": [
    "def function_2(df, targets):\n",
    "    \n",
    "    '''This function takes Raw input, performs all operation and Predicts the output'''\n",
    "    \n",
    "    #pre-processing \n",
    "    df = preprocessing_pipeline(df)\n",
    "    \n",
    "    #reading pickle files: all tokenizers,scalers and dictionary files required to process the input\n",
    "    with open(dir_path_pkl + 'tokenizer_brandname.pkl', 'rb') as f:\n",
    "        tokenizer_brandname = pickle.load(f)\n",
    "    \n",
    "    with open(dir_path_pkl + 'tokenizer_combined_col.pkl', 'rb') as f:\n",
    "        tokenizer_combined_col = pickle.load(f)\n",
    "    \n",
    "    with open(dir_path_pkl + 'tokenizer_categories.pkl', 'rb') as f:\n",
    "        tokenizer_categories = pickle.load(f)\n",
    "    \n",
    "    with open(dir_path_pkl + 'standard_scaler.pkl', 'rb') as f:\n",
    "        standard_scaler = pickle.load(f)\n",
    "    \n",
    "    with open(dir_path_pkl + 'tfidf_filtered_words', 'rb') as f:\n",
    "        tfidf_filtered_words = pickle.load(f)\n",
    "\n",
    "        \n",
    "    print(\"Filtering non-important words based on TF-idf value for Item Description field\")    \n",
    "    filtered_combined = filter_text(df['combined'], tfidf_filtered_words)\n",
    "    \n",
    "    #merging categories\n",
    "    df['Categories'] = df['Category'] + \" \" + df['Sub_Category_1'] + \" \" + df['Sub_Category_2']\n",
    "\n",
    "    print(\"Tokenizing input for brand_name\")\n",
    "    padded_brand, _, _ = tokenize_and_pad(df['brand_name'], maxlen=5, tokenizer=tokenizer_brandname)\n",
    "    print(\"padded_brand: \", padded_brand.shape)\n",
    "    \n",
    "    print(\"Tokenizing input for Item Description and Name\")\n",
    "    padded_essay, _, _ = tokenize_and_pad(filtered_combined, maxlen=60, tokenizer=tokenizer_combined_col)\n",
    "    print(\"padded_essay: \", padded_essay.shape)\n",
    "    \n",
    "    print(\"Tokenizing input for Categories\")\n",
    "    padded_category, _, _ = tokenize_and_pad(df['Categories'], maxlen=9, tokenizer=tokenizer_categories)\n",
    "    print(\"padded_category: \", padded_category.shape)\n",
    "    \n",
    "    print(\"Tokenizing input for Numerical features\")\n",
    "    num_scaled, _ = standarization(df[['item_condition_id', 'shipping', 'description_length']], scaler = standard_scaler)\n",
    "    print(\"num_scaled: \", num_scaled.shape, end='\\n\\n')\n",
    "\n",
    "    df_validation = [padded_essay, padded_brand, padded_category, num_scaled]\n",
    "\n",
    "    #reading model\n",
    "    model = tf.keras.models.load_model(dir_path_pkl + \"best_model_3b2.h5\")\n",
    "    \n",
    "    #predicting values\n",
    "    print(\"Predicting Values\")\n",
    "    predicted_prices = model.predict(df_validation)\n",
    "    #converting into expected prices\n",
    "    predicted_prices = np.exp(predicted_prices)\n",
    "    predicted_prices = np.squeeze(predicted_prices, axis=1)\n",
    "    \n",
    "    rmse = np.sqrt(((predictions - targets) ** 2).mean())\n",
    "    \n",
    "    print(\"RMSE is: \", rmse)\n",
    "    \n",
    "    return rmse"
   ]
  },
  {
   "cell_type": "markdown",
   "id": "9de30233",
   "metadata": {},
   "source": [
    "# Reading Test dataset"
   ]
  },
  {
   "cell_type": "code",
   "execution_count": 18,
   "id": "a9fb69bf",
   "metadata": {},
   "outputs": [],
   "source": [
    "Kaggle_testset = pd.read_csv(\"test_stg2.tsv\", delimiter=\"\\t\")"
   ]
  },
  {
   "cell_type": "markdown",
   "id": "0382a37e",
   "metadata": {},
   "source": [
    "# Calling function-1 to get Predictions "
   ]
  },
  {
   "cell_type": "code",
   "execution_count": 19,
   "id": "df81aba1",
   "metadata": {
    "scrolled": false
   },
   "outputs": [
    {
     "name": "stdout",
     "output_type": "stream",
     "text": [
      "Null values filled\n",
      "Text processing done for Name\n",
      "Text processing done for Brand_Name\n",
      "Text processing done for Description\n",
      "Predicting brand based on Name and Category\n",
      "missing Brands filled:  926987\n",
      "Adding new features for length of Description\n",
      "Combining Name and Item Description\n",
      "Splitting Categories\n",
      "Performing Stemming on Combined feature\n",
      "Preprocessing Done\n",
      "\n",
      "----------------------------------------------------------------------------------------------------\n",
      "\n",
      "Filtering non-important words based on TF-idf value for Item Description field\n"
     ]
    },
    {
     "name": "stderr",
     "output_type": "stream",
     "text": [
      "100%|████████████████████████████████████████████████████████████████████| 3460725/3460725 [00:17<00:00, 196432.06it/s]\n"
     ]
    },
    {
     "name": "stdout",
     "output_type": "stream",
     "text": [
      "Tokenizing input for brand_name\n",
      "padded_brand:  (3460725, 5)\n",
      "Tokenizing input for Item Description and Name\n",
      "padded_essay:  (3460725, 60)\n",
      "Tokenizing input for Categories\n",
      "padded_category:  (3460725, 9)\n",
      "Tokenizing input for Numerical features\n",
      "num_scaled:  (3460725, 3)\n",
      "Predicting Values\n",
      "108148/108148 [==============================] - 1295s 12ms/step\n",
      "             price\n",
      "0         6.162757\n",
      "1        12.536950\n",
      "2        46.874966\n",
      "3        15.570259\n",
      "4        12.980899\n",
      "...            ...\n",
      "3460720   7.690559\n",
      "3460721  44.567280\n",
      "3460722  16.146822\n",
      "3460723  21.332434\n",
      "3460724  25.271450\n",
      "\n",
      "[3460725 rows x 1 columns]\n"
     ]
    }
   ],
   "source": [
    "predictions = function_1(Kaggle_testset)"
   ]
  },
  {
   "cell_type": "markdown",
   "id": "a834f866",
   "metadata": {},
   "source": [
    "# Printing Values"
   ]
  },
  {
   "cell_type": "code",
   "execution_count": 22,
   "id": "a9a6305d",
   "metadata": {
    "scrolled": true
   },
   "outputs": [
    {
     "data": {
      "text/html": [
       "<div>\n",
       "<style scoped>\n",
       "    .dataframe tbody tr th:only-of-type {\n",
       "        vertical-align: middle;\n",
       "    }\n",
       "\n",
       "    .dataframe tbody tr th {\n",
       "        vertical-align: top;\n",
       "    }\n",
       "\n",
       "    .dataframe thead th {\n",
       "        text-align: right;\n",
       "    }\n",
       "</style>\n",
       "<table border=\"1\" class=\"dataframe\">\n",
       "  <thead>\n",
       "    <tr style=\"text-align: right;\">\n",
       "      <th></th>\n",
       "      <th>price</th>\n",
       "      <th>test_id</th>\n",
       "    </tr>\n",
       "  </thead>\n",
       "  <tbody>\n",
       "    <tr>\n",
       "      <th>0</th>\n",
       "      <td>6.162757</td>\n",
       "      <td>0</td>\n",
       "    </tr>\n",
       "    <tr>\n",
       "      <th>1</th>\n",
       "      <td>12.536950</td>\n",
       "      <td>1</td>\n",
       "    </tr>\n",
       "    <tr>\n",
       "      <th>2</th>\n",
       "      <td>46.874966</td>\n",
       "      <td>2</td>\n",
       "    </tr>\n",
       "    <tr>\n",
       "      <th>3</th>\n",
       "      <td>15.570259</td>\n",
       "      <td>3</td>\n",
       "    </tr>\n",
       "    <tr>\n",
       "      <th>4</th>\n",
       "      <td>12.980899</td>\n",
       "      <td>4</td>\n",
       "    </tr>\n",
       "    <tr>\n",
       "      <th>...</th>\n",
       "      <td>...</td>\n",
       "      <td>...</td>\n",
       "    </tr>\n",
       "    <tr>\n",
       "      <th>3460720</th>\n",
       "      <td>7.690559</td>\n",
       "      <td>3460720</td>\n",
       "    </tr>\n",
       "    <tr>\n",
       "      <th>3460721</th>\n",
       "      <td>44.567280</td>\n",
       "      <td>3460721</td>\n",
       "    </tr>\n",
       "    <tr>\n",
       "      <th>3460722</th>\n",
       "      <td>16.146822</td>\n",
       "      <td>3460722</td>\n",
       "    </tr>\n",
       "    <tr>\n",
       "      <th>3460723</th>\n",
       "      <td>21.332434</td>\n",
       "      <td>3460723</td>\n",
       "    </tr>\n",
       "    <tr>\n",
       "      <th>3460724</th>\n",
       "      <td>25.271450</td>\n",
       "      <td>3460724</td>\n",
       "    </tr>\n",
       "  </tbody>\n",
       "</table>\n",
       "<p>3460725 rows × 2 columns</p>\n",
       "</div>"
      ],
      "text/plain": [
       "             price  test_id\n",
       "0         6.162757        0\n",
       "1        12.536950        1\n",
       "2        46.874966        2\n",
       "3        15.570259        3\n",
       "4        12.980899        4\n",
       "...            ...      ...\n",
       "3460720   7.690559  3460720\n",
       "3460721  44.567280  3460721\n",
       "3460722  16.146822  3460722\n",
       "3460723  21.332434  3460723\n",
       "3460724  25.271450  3460724\n",
       "\n",
       "[3460725 rows x 2 columns]"
      ]
     },
     "execution_count": 22,
     "metadata": {},
     "output_type": "execute_result"
    }
   ],
   "source": [
    "predictions['test_id'] = Kaggle_testset['test_id']\n",
    "predictions"
   ]
  },
  {
   "cell_type": "code",
   "execution_count": null,
   "id": "1b2a1b27",
   "metadata": {},
   "outputs": [],
   "source": []
  },
  {
   "cell_type": "markdown",
   "id": "5c1022c8",
   "metadata": {},
   "source": [
    "# Scores"
   ]
  },
  {
   "cell_type": "code",
   "execution_count": 6,
   "id": "dc4328fc",
   "metadata": {
    "scrolled": true
   },
   "outputs": [
    {
     "name": "stdout",
     "output_type": "stream",
     "text": [
      "ML Models\n",
      "+---------------+----------+\n",
      "|     Model     | CV Error |\n",
      "+---------------+----------+\n",
      "|   Benchmark   |  0.7438  |\n",
      "|     Lasso     |  0.6566  |\n",
      "|     Ridge     |  0.6566  |\n",
      "| Decision Tree |  0.6311  |\n",
      "| Random Forest |  0.5829  |\n",
      "|      LGBM     |  0.5110  |\n",
      "+---------------+----------+\n",
      "DL Models\n",
      "+----------------------------------------------------------------------+----------+\n",
      "|                                Model                                 | CV Error |\n",
      "+----------------------------------------------------------------------+----------+\n",
      "| Features: Brand, Name & Description only. Embedding vector length 50 |  0.4456  |\n",
      "|               All Features. Embedding vector length 50               |  0.4479  |\n",
      "|           Filtering Name & Description with TF-IDF values            |  0.4358  |\n",
      "|              All Features. Embedding vector length 100               |  0.4456  |\n",
      "+----------------------------------------------------------------------+----------+\n"
     ]
    }
   ],
   "source": [
    "from prettytable import PrettyTable\n",
    "\n",
    "table = PrettyTable()\n",
    "table.field_names = [\"Model\", \"CV Error\"]\n",
    "\n",
    "table.add_row(['Benchmark','0.7438'])\n",
    "table.add_row(['Lasso','0.6566'])\n",
    "table.add_row(['Ridge','0.6566'])\n",
    "table.add_row(['Decision Tree','0.6311'])\n",
    "table.add_row(['Random Forest','0.5829'])\n",
    "table.add_row(['LGBM','0.5110'])\n",
    "\n",
    "table_DL = PrettyTable()\n",
    "table_DL.field_names = [\"Model\", \"CV Error\"]\n",
    "\n",
    "table_DL.add_row(['Features: Brand, Name & Description only. Embedding vector length 50','0.4456'])\n",
    "table_DL.add_row(['All Features. Embedding vector length 50','0.4479'])\n",
    "table_DL.add_row(['Filtering Name & Description with TF-IDF values','0.4358'])\n",
    "table_DL.add_row(['All Features. Embedding vector length 100','0.4456'])\n",
    "\n",
    "\n",
    "print(\"ML Models\")\n",
    "print(table)\n",
    "print(\"DL Models\")\n",
    "print(table_DL)"
   ]
  },
  {
   "cell_type": "markdown",
   "id": "251fb05b",
   "metadata": {},
   "source": [
    "# Final score on Kaggle submission"
   ]
  },
  {
   "attachments": {
    "Screenshot%202022-12-18%20104740.png": {
     "image/png": "[encoded data removed]"
    }
   },
   "cell_type": "markdown",
   "id": "21c6862f",
   "metadata": {},
   "source": [
    "![Screenshot%202022-12-18%20104740.png](attachment:Screenshot%202022-12-18%20104740.png)"
   ]
  },
  {
   "cell_type": "code",
   "execution_count": null,
   "id": "e7bba5b7",
   "metadata": {},
   "outputs": [],
   "source": []
  }
 ],
 "metadata": {
  "kernelspec": {
   "display_name": "Python 3 (ipykernel)",
   "language": "python",
   "name": "python3"
  },
  "language_info": {
   "codemirror_mode": {
    "name": "ipython",
    "version": 3
   },
   "file_extension": ".py",
   "mimetype": "text/x-python",
   "name": "python",
   "nbconvert_exporter": "python",
   "pygments_lexer": "ipython3",
   "version": "3.8.8"
  }
 },
 "nbformat": 4,
 "nbformat_minor": 5
}
